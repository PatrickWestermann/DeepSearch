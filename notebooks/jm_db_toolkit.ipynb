{
 "cells": [
  {
   "cell_type": "markdown",
   "id": "8a8da368",
   "metadata": {},
   "source": [
    "## Database toolkit"
   ]
  },
  {
   "cell_type": "code",
   "execution_count": 1,
   "id": "2b87f2dd",
   "metadata": {},
   "outputs": [],
   "source": [
    "%load_ext autoreload\n",
    "%autoreload 2"
   ]
  },
  {
   "cell_type": "markdown",
   "id": "a8736660",
   "metadata": {},
   "source": [
    "### Install DeepSearch module"
   ]
  },
  {
   "cell_type": "code",
   "execution_count": 2,
   "id": "408cbce5",
   "metadata": {},
   "outputs": [
    {
     "name": "stdout",
     "output_type": "stream",
     "text": [
      "Looking in indexes: https://pypi.org/simple, https://pypi.ngc.nvidia.com\n",
      "Requirement already satisfied: DeepSearch in /home/hal9000/Projects/DeepSearch (1.0)\n",
      "Requirement already satisfied: pip>=9 in /home/hal9000/.local/lib/python3.8/site-packages (from DeepSearch) (22.2.2)\n",
      "Requirement already satisfied: setuptools>=26 in /home/hal9000/.pyenv/versions/3.8.12/lib/python3.8/site-packages (from DeepSearch) (56.0.0)\n",
      "Requirement already satisfied: twine in /home/hal9000/.pyenv/versions/3.8.12/lib/python3.8/site-packages (from DeepSearch) (4.0.1)\n",
      "Requirement already satisfied: wheel>=0.29 in /home/hal9000/.pyenv/versions/3.8.12/lib/python3.8/site-packages (from DeepSearch) (0.37.1)\n",
      "Requirement already satisfied: numpy in /home/hal9000/.pyenv/versions/3.8.12/lib/python3.8/site-packages (from DeepSearch) (1.23.2)\n",
      "Requirement already satisfied: pandas in /home/hal9000/.pyenv/versions/3.8.12/lib/python3.8/site-packages (from DeepSearch) (1.4.3)\n",
      "Requirement already satisfied: scikit-learn in /home/hal9000/.pyenv/versions/3.8.12/lib/python3.8/site-packages (from DeepSearch) (1.1.2)\n",
      "Requirement already satisfied: black in /home/hal9000/.pyenv/versions/3.8.12/lib/python3.8/site-packages (from DeepSearch) (22.6.0)\n",
      "Requirement already satisfied: coverage in /home/hal9000/.pyenv/versions/3.8.12/lib/python3.8/site-packages (from DeepSearch) (6.4.4)\n",
      "Requirement already satisfied: flake8 in /home/hal9000/.pyenv/versions/3.8.12/lib/python3.8/site-packages (from DeepSearch) (5.0.4)\n",
      "Requirement already satisfied: pytest in /home/hal9000/.pyenv/versions/3.8.12/lib/python3.8/site-packages (from DeepSearch) (7.1.2)\n",
      "Requirement already satisfied: yapf in /home/hal9000/.pyenv/versions/3.8.12/lib/python3.8/site-packages (from DeepSearch) (0.32.0)\n",
      "Requirement already satisfied: gcsfs in /home/hal9000/.pyenv/versions/3.8.12/lib/python3.8/site-packages (from DeepSearch) (2022.7.1)\n",
      "Requirement already satisfied: google-cloud-storage in /home/hal9000/.pyenv/versions/3.8.12/lib/python3.8/site-packages (from DeepSearch) (2.5.0)\n",
      "Requirement already satisfied: mlflow in /home/hal9000/.pyenv/versions/3.8.12/lib/python3.8/site-packages (from DeepSearch) (1.28.0)\n",
      "Requirement already satisfied: s3fs in /home/hal9000/.pyenv/versions/3.8.12/lib/python3.8/site-packages (from DeepSearch) (2022.7.1)\n",
      "Requirement already satisfied: requests in /home/hal9000/.pyenv/versions/3.8.12/lib/python3.8/site-packages (from DeepSearch) (2.28.1)\n",
      "Requirement already satisfied: six>=1.14 in /home/hal9000/.pyenv/versions/3.8.12/lib/python3.8/site-packages (from DeepSearch) (1.16.0)\n",
      "Requirement already satisfied: joblib in /home/hal9000/.pyenv/versions/3.8.12/lib/python3.8/site-packages (from DeepSearch) (1.1.0)\n",
      "Requirement already satisfied: memoized-property in /home/hal9000/.pyenv/versions/3.8.12/lib/python3.8/site-packages (from DeepSearch) (1.0.3)\n",
      "Requirement already satisfied: termcolor in /home/hal9000/.pyenv/versions/3.8.12/lib/python3.8/site-packages (from DeepSearch) (1.1.0)\n",
      "Requirement already satisfied: xmltodict in /home/hal9000/.pyenv/versions/3.8.12/lib/python3.8/site-packages (from DeepSearch) (0.13.0)\n",
      "Requirement already satisfied: nltk in /home/hal9000/.pyenv/versions/3.8.12/lib/python3.8/site-packages (from DeepSearch) (3.7)\n",
      "Requirement already satisfied: pymongo in /home/hal9000/.pyenv/versions/3.8.12/lib/python3.8/site-packages (from DeepSearch) (4.2.0)\n",
      "Requirement already satisfied: wordcloud in /home/hal9000/.pyenv/versions/3.8.12/lib/python3.8/site-packages (from DeepSearch) (1.8.2.2)\n",
      "Requirement already satisfied: click>=8.0.0 in /home/hal9000/.pyenv/versions/3.8.12/lib/python3.8/site-packages (from black->DeepSearch) (8.0.4)\n",
      "Requirement already satisfied: platformdirs>=2 in /home/hal9000/.pyenv/versions/3.8.12/lib/python3.8/site-packages (from black->DeepSearch) (2.5.2)\n",
      "Requirement already satisfied: pathspec>=0.9.0 in /home/hal9000/.pyenv/versions/3.8.12/lib/python3.8/site-packages (from black->DeepSearch) (0.9.0)\n",
      "Requirement already satisfied: typing-extensions>=3.10.0.0 in /home/hal9000/.pyenv/versions/3.8.12/lib/python3.8/site-packages (from black->DeepSearch) (4.3.0)\n",
      "Requirement already satisfied: tomli>=1.1.0 in /home/hal9000/.pyenv/versions/3.8.12/lib/python3.8/site-packages (from black->DeepSearch) (2.0.1)\n",
      "Requirement already satisfied: mypy-extensions>=0.4.3 in /home/hal9000/.pyenv/versions/3.8.12/lib/python3.8/site-packages (from black->DeepSearch) (0.4.3)\n",
      "Requirement already satisfied: pyflakes<2.6.0,>=2.5.0 in /home/hal9000/.pyenv/versions/3.8.12/lib/python3.8/site-packages (from flake8->DeepSearch) (2.5.0)\n",
      "Requirement already satisfied: mccabe<0.8.0,>=0.7.0 in /home/hal9000/.pyenv/versions/3.8.12/lib/python3.8/site-packages (from flake8->DeepSearch) (0.7.0)\n",
      "Requirement already satisfied: pycodestyle<2.10.0,>=2.9.0 in /home/hal9000/.pyenv/versions/3.8.12/lib/python3.8/site-packages (from flake8->DeepSearch) (2.9.1)\n",
      "Requirement already satisfied: fsspec==2022.7.1 in /home/hal9000/.pyenv/versions/3.8.12/lib/python3.8/site-packages (from gcsfs->DeepSearch) (2022.7.1)\n",
      "Requirement already satisfied: google-auth-oauthlib in /home/hal9000/.pyenv/versions/3.8.12/lib/python3.8/site-packages (from gcsfs->DeepSearch) (0.5.2)\n",
      "Requirement already satisfied: aiohttp in /home/hal9000/.pyenv/versions/3.8.12/lib/python3.8/site-packages (from gcsfs->DeepSearch) (3.8.1)\n",
      "Requirement already satisfied: google-auth>=1.2 in /home/hal9000/.pyenv/versions/3.8.12/lib/python3.8/site-packages (from gcsfs->DeepSearch) (2.11.0)\n",
      "Requirement already satisfied: decorator>4.1.2 in /home/hal9000/.pyenv/versions/3.8.12/lib/python3.8/site-packages (from gcsfs->DeepSearch) (5.1.1)\n",
      "Requirement already satisfied: google-resumable-media>=2.3.2 in /home/hal9000/.pyenv/versions/3.8.12/lib/python3.8/site-packages (from google-cloud-storage->DeepSearch) (2.3.3)\n",
      "Requirement already satisfied: google-cloud-core<3.0dev,>=2.3.0 in /home/hal9000/.pyenv/versions/3.8.12/lib/python3.8/site-packages (from google-cloud-storage->DeepSearch) (2.3.2)\n",
      "Requirement already satisfied: google-api-core!=2.0.*,!=2.1.*,!=2.2.*,!=2.3.0,<3.0.0dev,>=1.31.5 in /home/hal9000/.pyenv/versions/3.8.12/lib/python3.8/site-packages (from google-cloud-storage->DeepSearch) (2.8.2)\n",
      "Requirement already satisfied: certifi>=2017.4.17 in /home/hal9000/.pyenv/versions/3.8.12/lib/python3.8/site-packages (from requests->DeepSearch) (2022.6.15)\n",
      "Requirement already satisfied: charset-normalizer<3,>=2 in /home/hal9000/.pyenv/versions/3.8.12/lib/python3.8/site-packages (from requests->DeepSearch) (2.1.0)\n",
      "Requirement already satisfied: urllib3<1.27,>=1.21.1 in /home/hal9000/.pyenv/versions/3.8.12/lib/python3.8/site-packages (from requests->DeepSearch) (1.26.11)\n",
      "Requirement already satisfied: idna<4,>=2.5 in /home/hal9000/.pyenv/versions/3.8.12/lib/python3.8/site-packages (from requests->DeepSearch) (3.3)\n",
      "Requirement already satisfied: gunicorn<21 in /home/hal9000/.pyenv/versions/3.8.12/lib/python3.8/site-packages (from mlflow->DeepSearch) (20.1.0)\n",
      "Requirement already satisfied: cloudpickle<3 in /home/hal9000/.pyenv/versions/3.8.12/lib/python3.8/site-packages (from mlflow->DeepSearch) (2.1.0)\n",
      "Requirement already satisfied: querystring-parser<2 in /home/hal9000/.pyenv/versions/3.8.12/lib/python3.8/site-packages (from mlflow->DeepSearch) (1.2.4)\n",
      "Requirement already satisfied: sqlparse<1,>=0.4.0 in /home/hal9000/.pyenv/versions/3.8.12/lib/python3.8/site-packages (from mlflow->DeepSearch) (0.4.2)\n",
      "Requirement already satisfied: gitpython<4,>=2.1.0 in /home/hal9000/.pyenv/versions/3.8.12/lib/python3.8/site-packages (from mlflow->DeepSearch) (3.1.27)\n",
      "Requirement already satisfied: protobuf<5,>=3.12.0 in /home/hal9000/.pyenv/versions/3.8.12/lib/python3.8/site-packages (from mlflow->DeepSearch) (3.20.1)\n",
      "Requirement already satisfied: sqlalchemy<2,>=1.4.0 in /home/hal9000/.pyenv/versions/3.8.12/lib/python3.8/site-packages (from mlflow->DeepSearch) (1.4.40)\n",
      "Requirement already satisfied: alembic<2 in /home/hal9000/.pyenv/versions/3.8.12/lib/python3.8/site-packages (from mlflow->DeepSearch) (1.8.1)\n",
      "Requirement already satisfied: docker<6,>=4.0.0 in /home/hal9000/.pyenv/versions/3.8.12/lib/python3.8/site-packages (from mlflow->DeepSearch) (5.0.3)\n",
      "Requirement already satisfied: databricks-cli<1,>=0.8.7 in /home/hal9000/.pyenv/versions/3.8.12/lib/python3.8/site-packages (from mlflow->DeepSearch) (0.17.2)\n",
      "Requirement already satisfied: packaging<22 in /home/hal9000/.pyenv/versions/3.8.12/lib/python3.8/site-packages (from mlflow->DeepSearch) (21.3)\n",
      "Requirement already satisfied: prometheus-flask-exporter<1 in /home/hal9000/.pyenv/versions/3.8.12/lib/python3.8/site-packages (from mlflow->DeepSearch) (0.20.3)\n",
      "Requirement already satisfied: pytz<2023 in /home/hal9000/.pyenv/versions/3.8.12/lib/python3.8/site-packages (from mlflow->DeepSearch) (2022.2.1)\n",
      "Requirement already satisfied: entrypoints<1 in /home/hal9000/.pyenv/versions/3.8.12/lib/python3.8/site-packages (from mlflow->DeepSearch) (0.4)\n",
      "Requirement already satisfied: pyyaml<7,>=5.1 in /home/hal9000/.pyenv/versions/3.8.12/lib/python3.8/site-packages (from mlflow->DeepSearch) (6.0)\n",
      "Requirement already satisfied: Flask<3 in /home/hal9000/.pyenv/versions/3.8.12/lib/python3.8/site-packages (from mlflow->DeepSearch) (2.2.2)\n",
      "Requirement already satisfied: scipy<2 in /home/hal9000/.pyenv/versions/3.8.12/lib/python3.8/site-packages (from mlflow->DeepSearch) (1.9.0)\n",
      "Requirement already satisfied: importlib-metadata!=4.7.0,<5,>=3.7.0 in /home/hal9000/.pyenv/versions/3.8.12/lib/python3.8/site-packages (from mlflow->DeepSearch) (4.12.0)\n",
      "Requirement already satisfied: python-dateutil>=2.8.1 in /home/hal9000/.pyenv/versions/3.8.12/lib/python3.8/site-packages (from pandas->DeepSearch) (2.8.2)\n"
     ]
    },
    {
     "name": "stdout",
     "output_type": "stream",
     "text": [
      "Requirement already satisfied: tqdm in /home/hal9000/.pyenv/versions/3.8.12/lib/python3.8/site-packages (from nltk->DeepSearch) (4.64.0)\n",
      "Requirement already satisfied: regex>=2021.8.3 in /home/hal9000/.pyenv/versions/3.8.12/lib/python3.8/site-packages (from nltk->DeepSearch) (2022.8.17)\n",
      "Requirement already satisfied: pluggy<2.0,>=0.12 in /home/hal9000/.pyenv/versions/3.8.12/lib/python3.8/site-packages (from pytest->DeepSearch) (1.0.0)\n",
      "Requirement already satisfied: attrs>=19.2.0 in /home/hal9000/.pyenv/versions/3.8.12/lib/python3.8/site-packages (from pytest->DeepSearch) (22.1.0)\n",
      "Requirement already satisfied: iniconfig in /home/hal9000/.pyenv/versions/3.8.12/lib/python3.8/site-packages (from pytest->DeepSearch) (1.1.1)\n",
      "Requirement already satisfied: py>=1.8.2 in /home/hal9000/.pyenv/versions/3.8.12/lib/python3.8/site-packages (from pytest->DeepSearch) (1.11.0)\n",
      "Requirement already satisfied: aiobotocore~=2.3.4 in /home/hal9000/.pyenv/versions/3.8.12/lib/python3.8/site-packages (from s3fs->DeepSearch) (2.3.4)\n",
      "Requirement already satisfied: threadpoolctl>=2.0.0 in /home/hal9000/.pyenv/versions/3.8.12/lib/python3.8/site-packages (from scikit-learn->DeepSearch) (3.1.0)\n",
      "Requirement already satisfied: readme-renderer>=35.0 in /home/hal9000/.pyenv/versions/3.8.12/lib/python3.8/site-packages (from twine->DeepSearch) (37.0)\n",
      "Requirement already satisfied: requests-toolbelt!=0.9.0,>=0.8.0 in /home/hal9000/.pyenv/versions/3.8.12/lib/python3.8/site-packages (from twine->DeepSearch) (0.9.1)\n",
      "Requirement already satisfied: rich>=12.0.0 in /home/hal9000/.pyenv/versions/3.8.12/lib/python3.8/site-packages (from twine->DeepSearch) (12.5.1)\n",
      "Requirement already satisfied: rfc3986>=1.4.0 in /home/hal9000/.pyenv/versions/3.8.12/lib/python3.8/site-packages (from twine->DeepSearch) (2.0.0)\n",
      "Requirement already satisfied: keyring>=15.1 in /home/hal9000/.pyenv/versions/3.8.12/lib/python3.8/site-packages (from twine->DeepSearch) (23.8.2)\n",
      "Requirement already satisfied: pkginfo>=1.8.1 in /home/hal9000/.pyenv/versions/3.8.12/lib/python3.8/site-packages (from twine->DeepSearch) (1.8.3)\n",
      "Requirement already satisfied: matplotlib in /home/hal9000/.pyenv/versions/3.8.12/lib/python3.8/site-packages (from wordcloud->DeepSearch) (3.5.3)\n",
      "Requirement already satisfied: pillow in /home/hal9000/.pyenv/versions/3.8.12/lib/python3.8/site-packages (from wordcloud->DeepSearch) (9.2.0)\n",
      "Requirement already satisfied: botocore<1.24.22,>=1.24.21 in /home/hal9000/.pyenv/versions/3.8.12/lib/python3.8/site-packages (from aiobotocore~=2.3.4->s3fs->DeepSearch) (1.24.21)\n",
      "Requirement already satisfied: aioitertools>=0.5.1 in /home/hal9000/.pyenv/versions/3.8.12/lib/python3.8/site-packages (from aiobotocore~=2.3.4->s3fs->DeepSearch) (0.10.0)\n",
      "Requirement already satisfied: wrapt>=1.10.10 in /home/hal9000/.pyenv/versions/3.8.12/lib/python3.8/site-packages (from aiobotocore~=2.3.4->s3fs->DeepSearch) (1.14.1)\n",
      "Requirement already satisfied: yarl<2.0,>=1.0 in /home/hal9000/.pyenv/versions/3.8.12/lib/python3.8/site-packages (from aiohttp->gcsfs->DeepSearch) (1.8.1)\n",
      "Requirement already satisfied: aiosignal>=1.1.2 in /home/hal9000/.pyenv/versions/3.8.12/lib/python3.8/site-packages (from aiohttp->gcsfs->DeepSearch) (1.2.0)\n",
      "Requirement already satisfied: async-timeout<5.0,>=4.0.0a3 in /home/hal9000/.pyenv/versions/3.8.12/lib/python3.8/site-packages (from aiohttp->gcsfs->DeepSearch) (4.0.2)\n",
      "Requirement already satisfied: frozenlist>=1.1.1 in /home/hal9000/.pyenv/versions/3.8.12/lib/python3.8/site-packages (from aiohttp->gcsfs->DeepSearch) (1.3.1)\n",
      "Requirement already satisfied: multidict<7.0,>=4.5 in /home/hal9000/.pyenv/versions/3.8.12/lib/python3.8/site-packages (from aiohttp->gcsfs->DeepSearch) (6.0.2)\n",
      "Requirement already satisfied: importlib-resources in /home/hal9000/.pyenv/versions/3.8.12/lib/python3.8/site-packages (from alembic<2->mlflow->DeepSearch) (5.9.0)\n",
      "Requirement already satisfied: Mako in /home/hal9000/.pyenv/versions/3.8.12/lib/python3.8/site-packages (from alembic<2->mlflow->DeepSearch) (1.2.1)\n",
      "Requirement already satisfied: tabulate>=0.7.7 in /home/hal9000/.pyenv/versions/3.8.12/lib/python3.8/site-packages (from databricks-cli<1,>=0.8.7->mlflow->DeepSearch) (0.8.10)\n",
      "Requirement already satisfied: pyjwt>=1.7.0 in /home/hal9000/.pyenv/versions/3.8.12/lib/python3.8/site-packages (from databricks-cli<1,>=0.8.7->mlflow->DeepSearch) (2.4.0)\n",
      "Requirement already satisfied: oauthlib>=3.1.0 in /home/hal9000/.pyenv/versions/3.8.12/lib/python3.8/site-packages (from databricks-cli<1,>=0.8.7->mlflow->DeepSearch) (3.2.0)\n",
      "Requirement already satisfied: websocket-client>=0.32.0 in /home/hal9000/.pyenv/versions/3.8.12/lib/python3.8/site-packages (from docker<6,>=4.0.0->mlflow->DeepSearch) (1.3.3)\n",
      "Requirement already satisfied: itsdangerous>=2.0 in /home/hal9000/.pyenv/versions/3.8.12/lib/python3.8/site-packages (from Flask<3->mlflow->DeepSearch) (2.1.2)\n",
      "Requirement already satisfied: Jinja2>=3.0 in /home/hal9000/.pyenv/versions/3.8.12/lib/python3.8/site-packages (from Flask<3->mlflow->DeepSearch) (3.1.2)\n",
      "Requirement already satisfied: Werkzeug>=2.2.2 in /home/hal9000/.pyenv/versions/3.8.12/lib/python3.8/site-packages (from Flask<3->mlflow->DeepSearch) (2.2.2)\n",
      "Requirement already satisfied: gitdb<5,>=4.0.1 in /home/hal9000/.pyenv/versions/3.8.12/lib/python3.8/site-packages (from gitpython<4,>=2.1.0->mlflow->DeepSearch) (4.0.9)\n",
      "Requirement already satisfied: googleapis-common-protos<2.0dev,>=1.56.2 in /home/hal9000/.pyenv/versions/3.8.12/lib/python3.8/site-packages (from google-api-core!=2.0.*,!=2.1.*,!=2.2.*,!=2.3.0,<3.0.0dev,>=1.31.5->google-cloud-storage->DeepSearch) (1.56.4)\n",
      "Requirement already satisfied: rsa<5,>=3.1.4 in /home/hal9000/.pyenv/versions/3.8.12/lib/python3.8/site-packages (from google-auth>=1.2->gcsfs->DeepSearch) (4.9)\n",
      "Requirement already satisfied: pyasn1-modules>=0.2.1 in /home/hal9000/.pyenv/versions/3.8.12/lib/python3.8/site-packages (from google-auth>=1.2->gcsfs->DeepSearch) (0.2.8)\n",
      "Requirement already satisfied: cachetools<6.0,>=2.0.0 in /home/hal9000/.pyenv/versions/3.8.12/lib/python3.8/site-packages (from google-auth>=1.2->gcsfs->DeepSearch) (5.2.0)\n",
      "Requirement already satisfied: google-crc32c<2.0dev,>=1.0 in /home/hal9000/.pyenv/versions/3.8.12/lib/python3.8/site-packages (from google-resumable-media>=2.3.2->google-cloud-storage->DeepSearch) (1.3.0)\n",
      "Requirement already satisfied: zipp>=0.5 in /home/hal9000/.pyenv/versions/3.8.12/lib/python3.8/site-packages (from importlib-metadata!=4.7.0,<5,>=3.7.0->mlflow->DeepSearch) (3.8.1)\n",
      "Requirement already satisfied: SecretStorage>=3.2 in /home/hal9000/.pyenv/versions/3.8.12/lib/python3.8/site-packages (from keyring>=15.1->twine->DeepSearch) (3.3.3)\n",
      "Requirement already satisfied: jeepney>=0.4.2 in /home/hal9000/.pyenv/versions/3.8.12/lib/python3.8/site-packages (from keyring>=15.1->twine->DeepSearch) (0.8.0)\n",
      "Requirement already satisfied: pyparsing!=3.0.5,>=2.0.2 in /home/hal9000/.pyenv/versions/3.8.12/lib/python3.8/site-packages (from packaging<22->mlflow->DeepSearch) (3.0.9)\n",
      "Requirement already satisfied: prometheus-client in /home/hal9000/.pyenv/versions/3.8.12/lib/python3.8/site-packages (from prometheus-flask-exporter<1->mlflow->DeepSearch) (0.14.1)\n",
      "Requirement already satisfied: docutils>=0.13.1 in /home/hal9000/.pyenv/versions/3.8.12/lib/python3.8/site-packages (from readme-renderer>=35.0->twine->DeepSearch) (0.19)\n",
      "Requirement already satisfied: Pygments>=2.5.1 in /home/hal9000/.pyenv/versions/3.8.12/lib/python3.8/site-packages (from readme-renderer>=35.0->twine->DeepSearch) (2.13.0)\n",
      "Requirement already satisfied: bleach>=2.1.0 in /home/hal9000/.pyenv/versions/3.8.12/lib/python3.8/site-packages (from readme-renderer>=35.0->twine->DeepSearch) (5.0.1)\n",
      "Requirement already satisfied: commonmark<0.10.0,>=0.9.0 in /home/hal9000/.pyenv/versions/3.8.12/lib/python3.8/site-packages (from rich>=12.0.0->twine->DeepSearch) (0.9.1)\n",
      "Requirement already satisfied: greenlet!=0.4.17 in /home/hal9000/.pyenv/versions/3.8.12/lib/python3.8/site-packages (from sqlalchemy<2,>=1.4.0->mlflow->DeepSearch) (1.1.2)\n",
      "Requirement already satisfied: requests-oauthlib>=0.7.0 in /home/hal9000/.pyenv/versions/3.8.12/lib/python3.8/site-packages (from google-auth-oauthlib->gcsfs->DeepSearch) (1.3.1)\n",
      "Requirement already satisfied: fonttools>=4.22.0 in /home/hal9000/.pyenv/versions/3.8.12/lib/python3.8/site-packages (from matplotlib->wordcloud->DeepSearch) (4.36.0)\n",
      "Requirement already satisfied: cycler>=0.10 in /home/hal9000/.pyenv/versions/3.8.12/lib/python3.8/site-packages (from matplotlib->wordcloud->DeepSearch) (0.11.0)\n",
      "Requirement already satisfied: kiwisolver>=1.0.1 in /home/hal9000/.pyenv/versions/3.8.12/lib/python3.8/site-packages (from matplotlib->wordcloud->DeepSearch) (1.4.4)\n"
     ]
    },
    {
     "name": "stdout",
     "output_type": "stream",
     "text": [
      "Requirement already satisfied: webencodings in /home/hal9000/.pyenv/versions/3.8.12/lib/python3.8/site-packages (from bleach>=2.1.0->readme-renderer>=35.0->twine->DeepSearch) (0.5.1)\n",
      "Requirement already satisfied: jmespath<2.0.0,>=0.7.1 in /home/hal9000/.pyenv/versions/3.8.12/lib/python3.8/site-packages (from botocore<1.24.22,>=1.24.21->aiobotocore~=2.3.4->s3fs->DeepSearch) (0.10.0)\n",
      "Requirement already satisfied: smmap<6,>=3.0.1 in /home/hal9000/.pyenv/versions/3.8.12/lib/python3.8/site-packages (from gitdb<5,>=4.0.1->gitpython<4,>=2.1.0->mlflow->DeepSearch) (5.0.0)\n",
      "Requirement already satisfied: MarkupSafe>=2.0 in /home/hal9000/.pyenv/versions/3.8.12/lib/python3.8/site-packages (from Jinja2>=3.0->Flask<3->mlflow->DeepSearch) (2.1.1)\n",
      "Requirement already satisfied: pyasn1<0.5.0,>=0.4.6 in /home/hal9000/.pyenv/versions/3.8.12/lib/python3.8/site-packages (from pyasn1-modules>=0.2.1->google-auth>=1.2->gcsfs->DeepSearch) (0.4.8)\n",
      "Requirement already satisfied: cryptography>=2.0 in /home/hal9000/.pyenv/versions/3.8.12/lib/python3.8/site-packages (from SecretStorage>=3.2->keyring>=15.1->twine->DeepSearch) (37.0.4)\n",
      "Requirement already satisfied: cffi>=1.12 in /home/hal9000/.pyenv/versions/3.8.12/lib/python3.8/site-packages (from cryptography>=2.0->SecretStorage>=3.2->keyring>=15.1->twine->DeepSearch) (1.15.1)\n",
      "Requirement already satisfied: pycparser in /home/hal9000/.pyenv/versions/3.8.12/lib/python3.8/site-packages (from cffi>=1.12->cryptography>=2.0->SecretStorage>=3.2->keyring>=15.1->twine->DeepSearch) (2.21)\n",
      "Looking in indexes: https://pypi.org/simple, https://pypi.ngc.nvidia.com\n",
      "Requirement already satisfied: connectorx in /home/hal9000/.pyenv/versions/3.8.12/lib/python3.8/site-packages (0.3.0)\n"
     ]
    }
   ],
   "source": [
    "!pip3 install DeepSearch\n",
    "!pip3 install connectorx"
   ]
  },
  {
   "cell_type": "markdown",
   "id": "4a8e01fb",
   "metadata": {},
   "source": [
    "### Import db_toolkit"
   ]
  },
  {
   "cell_type": "code",
   "execution_count": 24,
   "id": "58e15259",
   "metadata": {},
   "outputs": [],
   "source": [
    "from DeepSearch import db_toolkit"
   ]
  },
  {
   "cell_type": "markdown",
   "id": "8dae1c15",
   "metadata": {},
   "source": [
    "### Calling ToolKit class"
   ]
  },
  {
   "cell_type": "code",
   "execution_count": 19,
   "id": "0ebdb1c1",
   "metadata": {},
   "outputs": [
    {
     "name": "stdout",
     "output_type": "stream",
     "text": [
      "Toolkit functions: \n",
      "     create_db(database)\n",
      "     create_tbl(engine, tbl_name)\n",
      "     connect_db(database)\n",
      "     disconnect_db(engine)\n",
      "     csv_to_db(engine, csv_file, tbl_name)\n",
      "     tbl_to_df(db, tbl_name)\n",
      "Please use the full path to your database and your engine\n",
      "variable as return of connect_db for engine argument\n"
     ]
    }
   ],
   "source": [
    "db_tk = db_toolkit.ToolKit()"
   ]
  },
  {
   "cell_type": "markdown",
   "id": "2ddeedae",
   "metadata": {},
   "source": [
    "### Create database"
   ]
  },
  {
   "cell_type": "markdown",
   "id": "2c996e04",
   "metadata": {},
   "source": [
    "First get path to DeepSearch/data"
   ]
  },
  {
   "cell_type": "code",
   "execution_count": 20,
   "id": "43597e7f",
   "metadata": {},
   "outputs": [
    {
     "data": {
      "text/plain": [
       "'/home/bbscar/code/iShapeNoise/DeepSearch/DeepSearch/data'"
      ]
     },
     "execution_count": 20,
     "metadata": {},
     "output_type": "execute_result"
    }
   ],
   "source": [
    "import os\n",
    "path = os.getcwd()\n",
    "path = os.path.abspath(os.path.join(path, os.pardir)) + \"/DeepSearch/data\"\n",
    "path"
   ]
  },
  {
   "cell_type": "markdown",
   "id": "589ec828",
   "metadata": {},
   "source": [
    "Create database"
   ]
  },
  {
   "cell_type": "code",
   "execution_count": 26,
   "id": "255dae94",
   "metadata": {},
   "outputs": [
    {
     "data": {
      "text/plain": [
       "'/home/bbscar/code/iShapeNoise/DeepSearch/DeepSearch/data/deepsearch.db'"
      ]
     },
     "execution_count": 26,
     "metadata": {},
     "output_type": "execute_result"
    }
   ],
   "source": [
    "db_name = \"deepsearch.db\"\n",
    "db = path + \"/\" + db_name\n",
    "db"
   ]
  },
  {
   "cell_type": "code",
   "execution_count": 40,
   "id": "f5e11f00",
   "metadata": {},
   "outputs": [
    {
     "name": "stdout",
     "output_type": "stream",
     "text": [
      "Database engine created >> /home/bbscar/code/iShapeNoise/DeepSearch/DeepSearch/data/deepsearch.db\n"
     ]
    }
   ],
   "source": [
    "db_tk.create_db(db)"
   ]
  },
  {
   "cell_type": "markdown",
   "id": "ff6ba51c",
   "metadata": {},
   "source": [
    "Connect to database"
   ]
  },
  {
   "cell_type": "code",
   "execution_count": 41,
   "id": "dc268b0f",
   "metadata": {
    "scrolled": true
   },
   "outputs": [
    {
     "name": "stdout",
     "output_type": "stream",
     "text": [
      "Start engine >> /home/bbscar/code/iShapeNoise/DeepSearch/DeepSearch/data/deepsearch.db\n"
     ]
    },
    {
     "data": {
      "text/plain": [
       "Engine(sqlite:////home/bbscar/code/iShapeNoise/DeepSearch/DeepSearch/data/deepsearch.db)"
      ]
     },
     "execution_count": 41,
     "metadata": {},
     "output_type": "execute_result"
    }
   ],
   "source": [
    "engine = db_tk.connect_db(db)\n",
    "engine"
   ]
  },
  {
   "cell_type": "code",
   "execution_count": 42,
   "id": "c985c061",
   "metadata": {},
   "outputs": [
    {
     "name": "stdout",
     "output_type": "stream",
     "text": [
      "Pragma arguments added\n"
     ]
    },
    {
     "ename": "NameError",
     "evalue": "name 'self' is not defined",
     "output_type": "error",
     "traceback": [
      "\u001b[0;31m---------------------------------------------------------------------------\u001b[0m",
      "\u001b[0;31mNameError\u001b[0m                                 Traceback (most recent call last)",
      "\u001b[0;32m<timed eval>\u001b[0m in \u001b[0;36m<module>\u001b[0;34m\u001b[0m\n",
      "\u001b[0;32m~/code/iShapeNoise/DeepSearch/DeepSearch/db_toolkit.py\u001b[0m in \u001b[0;36mcsv_to_db\u001b[0;34m(self, engine, csv_file, tmp_path, tbl_name, chunk_size, on_exists)\u001b[0m\n\u001b[1;32m     70\u001b[0m                 data_p_files[i]), ignore_index=True)\n\u001b[1;32m     71\u001b[0m         \u001b[0;31m# Add data frame to\u001b[0m\u001b[0;34m\u001b[0m\u001b[0;34m\u001b[0m\u001b[0;34m\u001b[0m\u001b[0m\n\u001b[0;32m---> 72\u001b[0;31m         \u001b[0mdata\u001b[0m\u001b[0;34m.\u001b[0m\u001b[0mto_sql\u001b[0m\u001b[0;34m(\u001b[0m\u001b[0mstr\u001b[0m\u001b[0;34m(\u001b[0m\u001b[0mtbl_name\u001b[0m\u001b[0;34m)\u001b[0m\u001b[0;34m,\u001b[0m \u001b[0mcon\u001b[0m\u001b[0;34m=\u001b[0m\u001b[0mengine\u001b[0m\u001b[0;34m,\u001b[0m \u001b[0mif_exists\u001b[0m\u001b[0;34m=\u001b[0m\u001b[0mon_exists\u001b[0m\u001b[0;34m)\u001b[0m\u001b[0;34m\u001b[0m\u001b[0;34m\u001b[0m\u001b[0m\n\u001b[0m\u001b[1;32m     73\u001b[0m         \u001b[0mprint\u001b[0m\u001b[0;34m(\u001b[0m\u001b[0;34mf\"Data saved in table {tbl_name} of {engine}.\"\u001b[0m\u001b[0;34m)\u001b[0m\u001b[0;34m\u001b[0m\u001b[0;34m\u001b[0m\u001b[0m\n\u001b[1;32m     74\u001b[0m \u001b[0;34m\u001b[0m\u001b[0m\n",
      "\u001b[0;32m~/.pyenv/versions/3.8.12/envs/bbenv/lib/python3.8/site-packages/pandas/core/generic.py\u001b[0m in \u001b[0;36mto_sql\u001b[0;34m(self, name, con, schema, if_exists, index, index_label, chunksize, dtype, method)\u001b[0m\n\u001b[1;32m   2870\u001b[0m         \u001b[0;32mfrom\u001b[0m \u001b[0mpandas\u001b[0m\u001b[0;34m.\u001b[0m\u001b[0mio\u001b[0m \u001b[0;32mimport\u001b[0m \u001b[0msql\u001b[0m\u001b[0;34m\u001b[0m\u001b[0;34m\u001b[0m\u001b[0m\n\u001b[1;32m   2871\u001b[0m \u001b[0;34m\u001b[0m\u001b[0m\n\u001b[0;32m-> 2872\u001b[0;31m         sql.to_sql(\n\u001b[0m\u001b[1;32m   2873\u001b[0m             \u001b[0mself\u001b[0m\u001b[0;34m,\u001b[0m\u001b[0;34m\u001b[0m\u001b[0;34m\u001b[0m\u001b[0m\n\u001b[1;32m   2874\u001b[0m             \u001b[0mname\u001b[0m\u001b[0;34m,\u001b[0m\u001b[0;34m\u001b[0m\u001b[0;34m\u001b[0m\u001b[0m\n",
      "\u001b[0;32m~/.pyenv/versions/3.8.12/envs/bbenv/lib/python3.8/site-packages/pandas/io/sql.py\u001b[0m in \u001b[0;36mto_sql\u001b[0;34m(frame, name, con, schema, if_exists, index, index_label, chunksize, dtype, method, engine, **engine_kwargs)\u001b[0m\n\u001b[1;32m    715\u001b[0m         )\n\u001b[1;32m    716\u001b[0m \u001b[0;34m\u001b[0m\u001b[0m\n\u001b[0;32m--> 717\u001b[0;31m     pandas_sql.to_sql(\n\u001b[0m\u001b[1;32m    718\u001b[0m         \u001b[0mframe\u001b[0m\u001b[0;34m,\u001b[0m\u001b[0;34m\u001b[0m\u001b[0;34m\u001b[0m\u001b[0m\n\u001b[1;32m    719\u001b[0m         \u001b[0mname\u001b[0m\u001b[0;34m,\u001b[0m\u001b[0;34m\u001b[0m\u001b[0;34m\u001b[0m\u001b[0m\n",
      "\u001b[0;32m~/.pyenv/versions/3.8.12/envs/bbenv/lib/python3.8/site-packages/pandas/io/sql.py\u001b[0m in \u001b[0;36mto_sql\u001b[0;34m(self, frame, name, if_exists, index, index_label, schema, chunksize, dtype, method, engine, **engine_kwargs)\u001b[0m\n\u001b[1;32m   1749\u001b[0m         \u001b[0msql_engine\u001b[0m \u001b[0;34m=\u001b[0m \u001b[0mget_engine\u001b[0m\u001b[0;34m(\u001b[0m\u001b[0mengine\u001b[0m\u001b[0;34m)\u001b[0m\u001b[0;34m\u001b[0m\u001b[0;34m\u001b[0m\u001b[0m\n\u001b[1;32m   1750\u001b[0m \u001b[0;34m\u001b[0m\u001b[0m\n\u001b[0;32m-> 1751\u001b[0;31m         table = self.prep_table(\n\u001b[0m\u001b[1;32m   1752\u001b[0m             \u001b[0mframe\u001b[0m\u001b[0;34m=\u001b[0m\u001b[0mframe\u001b[0m\u001b[0;34m,\u001b[0m\u001b[0;34m\u001b[0m\u001b[0;34m\u001b[0m\u001b[0m\n\u001b[1;32m   1753\u001b[0m             \u001b[0mname\u001b[0m\u001b[0;34m=\u001b[0m\u001b[0mname\u001b[0m\u001b[0;34m,\u001b[0m\u001b[0;34m\u001b[0m\u001b[0;34m\u001b[0m\u001b[0m\n",
      "\u001b[0;32m~/.pyenv/versions/3.8.12/envs/bbenv/lib/python3.8/site-packages/pandas/io/sql.py\u001b[0m in \u001b[0;36mprep_table\u001b[0;34m(self, frame, name, if_exists, index, index_label, schema, dtype)\u001b[0m\n\u001b[1;32m   1648\u001b[0m             \u001b[0mdtype\u001b[0m\u001b[0;34m=\u001b[0m\u001b[0mdtype\u001b[0m\u001b[0;34m,\u001b[0m\u001b[0;34m\u001b[0m\u001b[0;34m\u001b[0m\u001b[0m\n\u001b[1;32m   1649\u001b[0m         )\n\u001b[0;32m-> 1650\u001b[0;31m         \u001b[0mtable\u001b[0m\u001b[0;34m.\u001b[0m\u001b[0mcreate\u001b[0m\u001b[0;34m(\u001b[0m\u001b[0;34m)\u001b[0m\u001b[0;34m\u001b[0m\u001b[0;34m\u001b[0m\u001b[0m\n\u001b[0m\u001b[1;32m   1651\u001b[0m         \u001b[0;32mreturn\u001b[0m \u001b[0mtable\u001b[0m\u001b[0;34m\u001b[0m\u001b[0;34m\u001b[0m\u001b[0m\n\u001b[1;32m   1652\u001b[0m \u001b[0;34m\u001b[0m\u001b[0m\n",
      "\u001b[0;32m~/.pyenv/versions/3.8.12/envs/bbenv/lib/python3.8/site-packages/pandas/io/sql.py\u001b[0m in \u001b[0;36mcreate\u001b[0;34m(self)\u001b[0m\n\u001b[1;32m    854\u001b[0m \u001b[0;34m\u001b[0m\u001b[0m\n\u001b[1;32m    855\u001b[0m     \u001b[0;32mdef\u001b[0m \u001b[0mcreate\u001b[0m\u001b[0;34m(\u001b[0m\u001b[0mself\u001b[0m\u001b[0;34m)\u001b[0m\u001b[0;34m:\u001b[0m\u001b[0;34m\u001b[0m\u001b[0;34m\u001b[0m\u001b[0m\n\u001b[0;32m--> 856\u001b[0;31m         \u001b[0;32mif\u001b[0m \u001b[0mself\u001b[0m\u001b[0;34m.\u001b[0m\u001b[0mexists\u001b[0m\u001b[0;34m(\u001b[0m\u001b[0;34m)\u001b[0m\u001b[0;34m:\u001b[0m\u001b[0;34m\u001b[0m\u001b[0;34m\u001b[0m\u001b[0m\n\u001b[0m\u001b[1;32m    857\u001b[0m             \u001b[0;32mif\u001b[0m \u001b[0mself\u001b[0m\u001b[0;34m.\u001b[0m\u001b[0mif_exists\u001b[0m \u001b[0;34m==\u001b[0m \u001b[0;34m\"fail\"\u001b[0m\u001b[0;34m:\u001b[0m\u001b[0;34m\u001b[0m\u001b[0;34m\u001b[0m\u001b[0m\n\u001b[1;32m    858\u001b[0m                 \u001b[0;32mraise\u001b[0m \u001b[0mValueError\u001b[0m\u001b[0;34m(\u001b[0m\u001b[0;34mf\"Table '{self.name}' already exists.\"\u001b[0m\u001b[0;34m)\u001b[0m\u001b[0;34m\u001b[0m\u001b[0;34m\u001b[0m\u001b[0m\n",
      "\u001b[0;32m~/.pyenv/versions/3.8.12/envs/bbenv/lib/python3.8/site-packages/pandas/io/sql.py\u001b[0m in \u001b[0;36mexists\u001b[0;34m(self)\u001b[0m\n\u001b[1;32m    838\u001b[0m \u001b[0;34m\u001b[0m\u001b[0m\n\u001b[1;32m    839\u001b[0m     \u001b[0;32mdef\u001b[0m \u001b[0mexists\u001b[0m\u001b[0;34m(\u001b[0m\u001b[0mself\u001b[0m\u001b[0;34m)\u001b[0m\u001b[0;34m:\u001b[0m\u001b[0;34m\u001b[0m\u001b[0;34m\u001b[0m\u001b[0m\n\u001b[0;32m--> 840\u001b[0;31m         \u001b[0;32mreturn\u001b[0m \u001b[0mself\u001b[0m\u001b[0;34m.\u001b[0m\u001b[0mpd_sql\u001b[0m\u001b[0;34m.\u001b[0m\u001b[0mhas_table\u001b[0m\u001b[0;34m(\u001b[0m\u001b[0mself\u001b[0m\u001b[0;34m.\u001b[0m\u001b[0mname\u001b[0m\u001b[0;34m,\u001b[0m \u001b[0mself\u001b[0m\u001b[0;34m.\u001b[0m\u001b[0mschema\u001b[0m\u001b[0;34m)\u001b[0m\u001b[0;34m\u001b[0m\u001b[0;34m\u001b[0m\u001b[0m\n\u001b[0m\u001b[1;32m    841\u001b[0m \u001b[0;34m\u001b[0m\u001b[0m\n\u001b[1;32m    842\u001b[0m     \u001b[0;32mdef\u001b[0m \u001b[0msql_schema\u001b[0m\u001b[0;34m(\u001b[0m\u001b[0mself\u001b[0m\u001b[0;34m)\u001b[0m\u001b[0;34m:\u001b[0m\u001b[0;34m\u001b[0m\u001b[0;34m\u001b[0m\u001b[0m\n",
      "\u001b[0;32m~/.pyenv/versions/3.8.12/envs/bbenv/lib/python3.8/site-packages/pandas/io/sql.py\u001b[0m in \u001b[0;36mhas_table\u001b[0;34m(self, name, schema)\u001b[0m\n\u001b[1;32m   1784\u001b[0m             \u001b[0;32mreturn\u001b[0m \u001b[0minsp\u001b[0m\u001b[0;34m.\u001b[0m\u001b[0mhas_table\u001b[0m\u001b[0;34m(\u001b[0m\u001b[0mname\u001b[0m\u001b[0;34m,\u001b[0m \u001b[0mschema\u001b[0m \u001b[0;32mor\u001b[0m \u001b[0mself\u001b[0m\u001b[0;34m.\u001b[0m\u001b[0mmeta\u001b[0m\u001b[0;34m.\u001b[0m\u001b[0mschema\u001b[0m\u001b[0;34m)\u001b[0m\u001b[0;34m\u001b[0m\u001b[0;34m\u001b[0m\u001b[0m\n\u001b[1;32m   1785\u001b[0m         \u001b[0;32melse\u001b[0m\u001b[0;34m:\u001b[0m\u001b[0;34m\u001b[0m\u001b[0;34m\u001b[0m\u001b[0m\n\u001b[0;32m-> 1786\u001b[0;31m             return self.connectable.run_callable(\n\u001b[0m\u001b[1;32m   1787\u001b[0m                 \u001b[0mself\u001b[0m\u001b[0;34m.\u001b[0m\u001b[0mconnectable\u001b[0m\u001b[0;34m.\u001b[0m\u001b[0mdialect\u001b[0m\u001b[0;34m.\u001b[0m\u001b[0mhas_table\u001b[0m\u001b[0;34m,\u001b[0m \u001b[0mname\u001b[0m\u001b[0;34m,\u001b[0m \u001b[0mschema\u001b[0m \u001b[0;32mor\u001b[0m \u001b[0mself\u001b[0m\u001b[0;34m.\u001b[0m\u001b[0mmeta\u001b[0m\u001b[0;34m.\u001b[0m\u001b[0mschema\u001b[0m\u001b[0;34m\u001b[0m\u001b[0;34m\u001b[0m\u001b[0m\n\u001b[1;32m   1788\u001b[0m             )\n",
      "\u001b[0;32m~/.pyenv/versions/3.8.12/envs/bbenv/lib/python3.8/site-packages/sqlalchemy/engine/base.py\u001b[0m in \u001b[0;36mrun_callable\u001b[0;34m(self, callable_, *args, **kwargs)\u001b[0m\n\u001b[1;32m   2209\u001b[0m \u001b[0;34m\u001b[0m\u001b[0m\n\u001b[1;32m   2210\u001b[0m         \"\"\"\n\u001b[0;32m-> 2211\u001b[0;31m         \u001b[0;32mwith\u001b[0m \u001b[0mself\u001b[0m\u001b[0;34m.\u001b[0m\u001b[0m_contextual_connect\u001b[0m\u001b[0;34m(\u001b[0m\u001b[0;34m)\u001b[0m \u001b[0;32mas\u001b[0m \u001b[0mconn\u001b[0m\u001b[0;34m:\u001b[0m\u001b[0;34m\u001b[0m\u001b[0;34m\u001b[0m\u001b[0m\n\u001b[0m\u001b[1;32m   2212\u001b[0m             \u001b[0;32mreturn\u001b[0m \u001b[0mconn\u001b[0m\u001b[0;34m.\u001b[0m\u001b[0mrun_callable\u001b[0m\u001b[0;34m(\u001b[0m\u001b[0mcallable_\u001b[0m\u001b[0;34m,\u001b[0m \u001b[0;34m*\u001b[0m\u001b[0margs\u001b[0m\u001b[0;34m,\u001b[0m \u001b[0;34m**\u001b[0m\u001b[0mkwargs\u001b[0m\u001b[0;34m)\u001b[0m\u001b[0;34m\u001b[0m\u001b[0;34m\u001b[0m\u001b[0m\n\u001b[1;32m   2213\u001b[0m \u001b[0;34m\u001b[0m\u001b[0m\n",
      "\u001b[0;32m~/.pyenv/versions/3.8.12/envs/bbenv/lib/python3.8/site-packages/sqlalchemy/engine/base.py\u001b[0m in \u001b[0;36m_contextual_connect\u001b[0;34m(self, close_with_result, **kwargs)\u001b[0m\n\u001b[1;32m   2300\u001b[0m         return self._connection_cls(\n\u001b[1;32m   2301\u001b[0m             \u001b[0mself\u001b[0m\u001b[0;34m,\u001b[0m\u001b[0;34m\u001b[0m\u001b[0;34m\u001b[0m\u001b[0m\n\u001b[0;32m-> 2302\u001b[0;31m             \u001b[0mself\u001b[0m\u001b[0;34m.\u001b[0m\u001b[0m_wrap_pool_connect\u001b[0m\u001b[0;34m(\u001b[0m\u001b[0mself\u001b[0m\u001b[0;34m.\u001b[0m\u001b[0mpool\u001b[0m\u001b[0;34m.\u001b[0m\u001b[0mconnect\u001b[0m\u001b[0;34m,\u001b[0m \u001b[0;32mNone\u001b[0m\u001b[0;34m)\u001b[0m\u001b[0;34m,\u001b[0m\u001b[0;34m\u001b[0m\u001b[0;34m\u001b[0m\u001b[0m\n\u001b[0m\u001b[1;32m   2303\u001b[0m             \u001b[0mclose_with_result\u001b[0m\u001b[0;34m=\u001b[0m\u001b[0mclose_with_result\u001b[0m\u001b[0;34m,\u001b[0m\u001b[0;34m\u001b[0m\u001b[0;34m\u001b[0m\u001b[0m\n\u001b[1;32m   2304\u001b[0m             \u001b[0;34m**\u001b[0m\u001b[0mkwargs\u001b[0m\u001b[0;34m\u001b[0m\u001b[0;34m\u001b[0m\u001b[0m\n",
      "\u001b[0;32m~/.pyenv/versions/3.8.12/envs/bbenv/lib/python3.8/site-packages/sqlalchemy/engine/base.py\u001b[0m in \u001b[0;36m_wrap_pool_connect\u001b[0;34m(self, fn, connection)\u001b[0m\n\u001b[1;32m   2334\u001b[0m         \u001b[0mdialect\u001b[0m \u001b[0;34m=\u001b[0m \u001b[0mself\u001b[0m\u001b[0;34m.\u001b[0m\u001b[0mdialect\u001b[0m\u001b[0;34m\u001b[0m\u001b[0;34m\u001b[0m\u001b[0m\n\u001b[1;32m   2335\u001b[0m         \u001b[0;32mtry\u001b[0m\u001b[0;34m:\u001b[0m\u001b[0;34m\u001b[0m\u001b[0;34m\u001b[0m\u001b[0m\n\u001b[0;32m-> 2336\u001b[0;31m             \u001b[0;32mreturn\u001b[0m \u001b[0mfn\u001b[0m\u001b[0;34m(\u001b[0m\u001b[0;34m)\u001b[0m\u001b[0;34m\u001b[0m\u001b[0;34m\u001b[0m\u001b[0m\n\u001b[0m\u001b[1;32m   2337\u001b[0m         \u001b[0;32mexcept\u001b[0m \u001b[0mdialect\u001b[0m\u001b[0;34m.\u001b[0m\u001b[0mdbapi\u001b[0m\u001b[0;34m.\u001b[0m\u001b[0mError\u001b[0m \u001b[0;32mas\u001b[0m \u001b[0me\u001b[0m\u001b[0;34m:\u001b[0m\u001b[0;34m\u001b[0m\u001b[0;34m\u001b[0m\u001b[0m\n\u001b[1;32m   2338\u001b[0m             \u001b[0;32mif\u001b[0m \u001b[0mconnection\u001b[0m \u001b[0;32mis\u001b[0m \u001b[0;32mNone\u001b[0m\u001b[0;34m:\u001b[0m\u001b[0;34m\u001b[0m\u001b[0;34m\u001b[0m\u001b[0m\n",
      "\u001b[0;32m~/.pyenv/versions/3.8.12/envs/bbenv/lib/python3.8/site-packages/sqlalchemy/pool/base.py\u001b[0m in \u001b[0;36mconnect\u001b[0;34m(self)\u001b[0m\n\u001b[1;32m    362\u001b[0m         \"\"\"\n\u001b[1;32m    363\u001b[0m         \u001b[0;32mif\u001b[0m \u001b[0;32mnot\u001b[0m \u001b[0mself\u001b[0m\u001b[0;34m.\u001b[0m\u001b[0m_use_threadlocal\u001b[0m\u001b[0;34m:\u001b[0m\u001b[0;34m\u001b[0m\u001b[0;34m\u001b[0m\u001b[0m\n\u001b[0;32m--> 364\u001b[0;31m             \u001b[0;32mreturn\u001b[0m \u001b[0m_ConnectionFairy\u001b[0m\u001b[0;34m.\u001b[0m\u001b[0m_checkout\u001b[0m\u001b[0;34m(\u001b[0m\u001b[0mself\u001b[0m\u001b[0;34m)\u001b[0m\u001b[0;34m\u001b[0m\u001b[0;34m\u001b[0m\u001b[0m\n\u001b[0m\u001b[1;32m    365\u001b[0m \u001b[0;34m\u001b[0m\u001b[0m\n\u001b[1;32m    366\u001b[0m         \u001b[0;32mtry\u001b[0m\u001b[0;34m:\u001b[0m\u001b[0;34m\u001b[0m\u001b[0;34m\u001b[0m\u001b[0m\n",
      "\u001b[0;32m~/.pyenv/versions/3.8.12/envs/bbenv/lib/python3.8/site-packages/sqlalchemy/pool/base.py\u001b[0m in \u001b[0;36m_checkout\u001b[0;34m(cls, pool, threadconns, fairy)\u001b[0m\n\u001b[1;32m    776\u001b[0m     \u001b[0;32mdef\u001b[0m \u001b[0m_checkout\u001b[0m\u001b[0;34m(\u001b[0m\u001b[0mcls\u001b[0m\u001b[0;34m,\u001b[0m \u001b[0mpool\u001b[0m\u001b[0;34m,\u001b[0m \u001b[0mthreadconns\u001b[0m\u001b[0;34m=\u001b[0m\u001b[0;32mNone\u001b[0m\u001b[0;34m,\u001b[0m \u001b[0mfairy\u001b[0m\u001b[0;34m=\u001b[0m\u001b[0;32mNone\u001b[0m\u001b[0;34m)\u001b[0m\u001b[0;34m:\u001b[0m\u001b[0;34m\u001b[0m\u001b[0;34m\u001b[0m\u001b[0m\n\u001b[1;32m    777\u001b[0m         \u001b[0;32mif\u001b[0m \u001b[0;32mnot\u001b[0m \u001b[0mfairy\u001b[0m\u001b[0;34m:\u001b[0m\u001b[0;34m\u001b[0m\u001b[0;34m\u001b[0m\u001b[0m\n\u001b[0;32m--> 778\u001b[0;31m             \u001b[0mfairy\u001b[0m \u001b[0;34m=\u001b[0m \u001b[0m_ConnectionRecord\u001b[0m\u001b[0;34m.\u001b[0m\u001b[0mcheckout\u001b[0m\u001b[0;34m(\u001b[0m\u001b[0mpool\u001b[0m\u001b[0;34m)\u001b[0m\u001b[0;34m\u001b[0m\u001b[0;34m\u001b[0m\u001b[0m\n\u001b[0m\u001b[1;32m    779\u001b[0m \u001b[0;34m\u001b[0m\u001b[0m\n\u001b[1;32m    780\u001b[0m             \u001b[0mfairy\u001b[0m\u001b[0;34m.\u001b[0m\u001b[0m_pool\u001b[0m \u001b[0;34m=\u001b[0m \u001b[0mpool\u001b[0m\u001b[0;34m\u001b[0m\u001b[0;34m\u001b[0m\u001b[0m\n",
      "\u001b[0;32m~/.pyenv/versions/3.8.12/envs/bbenv/lib/python3.8/site-packages/sqlalchemy/pool/base.py\u001b[0m in \u001b[0;36mcheckout\u001b[0;34m(cls, pool)\u001b[0m\n\u001b[1;32m    493\u001b[0m     \u001b[0;34m@\u001b[0m\u001b[0mclassmethod\u001b[0m\u001b[0;34m\u001b[0m\u001b[0;34m\u001b[0m\u001b[0m\n\u001b[1;32m    494\u001b[0m     \u001b[0;32mdef\u001b[0m \u001b[0mcheckout\u001b[0m\u001b[0;34m(\u001b[0m\u001b[0mcls\u001b[0m\u001b[0;34m,\u001b[0m \u001b[0mpool\u001b[0m\u001b[0;34m)\u001b[0m\u001b[0;34m:\u001b[0m\u001b[0;34m\u001b[0m\u001b[0;34m\u001b[0m\u001b[0m\n\u001b[0;32m--> 495\u001b[0;31m         \u001b[0mrec\u001b[0m \u001b[0;34m=\u001b[0m \u001b[0mpool\u001b[0m\u001b[0;34m.\u001b[0m\u001b[0m_do_get\u001b[0m\u001b[0;34m(\u001b[0m\u001b[0;34m)\u001b[0m\u001b[0;34m\u001b[0m\u001b[0;34m\u001b[0m\u001b[0m\n\u001b[0m\u001b[1;32m    496\u001b[0m         \u001b[0;32mtry\u001b[0m\u001b[0;34m:\u001b[0m\u001b[0;34m\u001b[0m\u001b[0;34m\u001b[0m\u001b[0m\n\u001b[1;32m    497\u001b[0m             \u001b[0mdbapi_connection\u001b[0m \u001b[0;34m=\u001b[0m \u001b[0mrec\u001b[0m\u001b[0;34m.\u001b[0m\u001b[0mget_connection\u001b[0m\u001b[0;34m(\u001b[0m\u001b[0;34m)\u001b[0m\u001b[0;34m\u001b[0m\u001b[0;34m\u001b[0m\u001b[0m\n",
      "\u001b[0;32m~/.pyenv/versions/3.8.12/envs/bbenv/lib/python3.8/site-packages/sqlalchemy/pool/impl.py\u001b[0m in \u001b[0;36m_do_get\u001b[0;34m(self)\u001b[0m\n\u001b[1;32m    239\u001b[0m \u001b[0;34m\u001b[0m\u001b[0m\n\u001b[1;32m    240\u001b[0m     \u001b[0;32mdef\u001b[0m \u001b[0m_do_get\u001b[0m\u001b[0;34m(\u001b[0m\u001b[0mself\u001b[0m\u001b[0;34m)\u001b[0m\u001b[0;34m:\u001b[0m\u001b[0;34m\u001b[0m\u001b[0;34m\u001b[0m\u001b[0m\n\u001b[0;32m--> 241\u001b[0;31m         \u001b[0;32mreturn\u001b[0m \u001b[0mself\u001b[0m\u001b[0;34m.\u001b[0m\u001b[0m_create_connection\u001b[0m\u001b[0;34m(\u001b[0m\u001b[0;34m)\u001b[0m\u001b[0;34m\u001b[0m\u001b[0;34m\u001b[0m\u001b[0m\n\u001b[0m\u001b[1;32m    242\u001b[0m \u001b[0;34m\u001b[0m\u001b[0m\n\u001b[1;32m    243\u001b[0m     \u001b[0;32mdef\u001b[0m \u001b[0mrecreate\u001b[0m\u001b[0;34m(\u001b[0m\u001b[0mself\u001b[0m\u001b[0;34m)\u001b[0m\u001b[0;34m:\u001b[0m\u001b[0;34m\u001b[0m\u001b[0;34m\u001b[0m\u001b[0m\n",
      "\u001b[0;32m~/.pyenv/versions/3.8.12/envs/bbenv/lib/python3.8/site-packages/sqlalchemy/pool/base.py\u001b[0m in \u001b[0;36m_create_connection\u001b[0;34m(self)\u001b[0m\n\u001b[1;32m    307\u001b[0m         \u001b[0;34m\"\"\"Called by subclasses to create a new ConnectionRecord.\"\"\"\u001b[0m\u001b[0;34m\u001b[0m\u001b[0;34m\u001b[0m\u001b[0m\n\u001b[1;32m    308\u001b[0m \u001b[0;34m\u001b[0m\u001b[0m\n\u001b[0;32m--> 309\u001b[0;31m         \u001b[0;32mreturn\u001b[0m \u001b[0m_ConnectionRecord\u001b[0m\u001b[0;34m(\u001b[0m\u001b[0mself\u001b[0m\u001b[0;34m)\u001b[0m\u001b[0;34m\u001b[0m\u001b[0;34m\u001b[0m\u001b[0m\n\u001b[0m\u001b[1;32m    310\u001b[0m \u001b[0;34m\u001b[0m\u001b[0m\n\u001b[1;32m    311\u001b[0m     \u001b[0;32mdef\u001b[0m \u001b[0m_invalidate\u001b[0m\u001b[0;34m(\u001b[0m\u001b[0mself\u001b[0m\u001b[0;34m,\u001b[0m \u001b[0mconnection\u001b[0m\u001b[0;34m,\u001b[0m \u001b[0mexception\u001b[0m\u001b[0;34m=\u001b[0m\u001b[0;32mNone\u001b[0m\u001b[0;34m,\u001b[0m \u001b[0m_checkin\u001b[0m\u001b[0;34m=\u001b[0m\u001b[0;32mTrue\u001b[0m\u001b[0;34m)\u001b[0m\u001b[0;34m:\u001b[0m\u001b[0;34m\u001b[0m\u001b[0;34m\u001b[0m\u001b[0m\n",
      "\u001b[0;32m~/.pyenv/versions/3.8.12/envs/bbenv/lib/python3.8/site-packages/sqlalchemy/pool/base.py\u001b[0m in \u001b[0;36m__init__\u001b[0;34m(self, pool, connect)\u001b[0m\n\u001b[1;32m    438\u001b[0m         \u001b[0mself\u001b[0m\u001b[0;34m.\u001b[0m\u001b[0m__pool\u001b[0m \u001b[0;34m=\u001b[0m \u001b[0mpool\u001b[0m\u001b[0;34m\u001b[0m\u001b[0;34m\u001b[0m\u001b[0m\n\u001b[1;32m    439\u001b[0m         \u001b[0;32mif\u001b[0m \u001b[0mconnect\u001b[0m\u001b[0;34m:\u001b[0m\u001b[0;34m\u001b[0m\u001b[0;34m\u001b[0m\u001b[0m\n\u001b[0;32m--> 440\u001b[0;31m             \u001b[0mself\u001b[0m\u001b[0;34m.\u001b[0m\u001b[0m__connect\u001b[0m\u001b[0;34m(\u001b[0m\u001b[0mfirst_connect_check\u001b[0m\u001b[0;34m=\u001b[0m\u001b[0;32mTrue\u001b[0m\u001b[0;34m)\u001b[0m\u001b[0;34m\u001b[0m\u001b[0;34m\u001b[0m\u001b[0m\n\u001b[0m\u001b[1;32m    441\u001b[0m         \u001b[0mself\u001b[0m\u001b[0;34m.\u001b[0m\u001b[0mfinalize_callback\u001b[0m \u001b[0;34m=\u001b[0m \u001b[0mdeque\u001b[0m\u001b[0;34m(\u001b[0m\u001b[0;34m)\u001b[0m\u001b[0;34m\u001b[0m\u001b[0;34m\u001b[0m\u001b[0m\n\u001b[1;32m    442\u001b[0m \u001b[0;34m\u001b[0m\u001b[0m\n",
      "\u001b[0;32m~/.pyenv/versions/3.8.12/envs/bbenv/lib/python3.8/site-packages/sqlalchemy/pool/base.py\u001b[0m in \u001b[0;36m__connect\u001b[0;34m(self, first_connect_check)\u001b[0m\n\u001b[1;32m    666\u001b[0m                 ).exec_once_unless_exception(self.connection, self)\n\u001b[1;32m    667\u001b[0m             \u001b[0;32mif\u001b[0m \u001b[0mpool\u001b[0m\u001b[0;34m.\u001b[0m\u001b[0mdispatch\u001b[0m\u001b[0;34m.\u001b[0m\u001b[0mconnect\u001b[0m\u001b[0;34m:\u001b[0m\u001b[0;34m\u001b[0m\u001b[0;34m\u001b[0m\u001b[0m\n\u001b[0;32m--> 668\u001b[0;31m                 \u001b[0mpool\u001b[0m\u001b[0;34m.\u001b[0m\u001b[0mdispatch\u001b[0m\u001b[0;34m.\u001b[0m\u001b[0mconnect\u001b[0m\u001b[0;34m(\u001b[0m\u001b[0mself\u001b[0m\u001b[0;34m.\u001b[0m\u001b[0mconnection\u001b[0m\u001b[0;34m,\u001b[0m \u001b[0mself\u001b[0m\u001b[0;34m)\u001b[0m\u001b[0;34m\u001b[0m\u001b[0;34m\u001b[0m\u001b[0m\n\u001b[0m\u001b[1;32m    669\u001b[0m \u001b[0;34m\u001b[0m\u001b[0m\n\u001b[1;32m    670\u001b[0m \u001b[0;34m\u001b[0m\u001b[0m\n",
      "\u001b[0;32m~/.pyenv/versions/3.8.12/envs/bbenv/lib/python3.8/site-packages/sqlalchemy/event/attr.py\u001b[0m in \u001b[0;36m__call__\u001b[0;34m(self, *args, **kw)\u001b[0m\n\u001b[1;32m    259\u001b[0m \u001b[0;34m\u001b[0m\u001b[0m\n\u001b[1;32m    260\u001b[0m         \u001b[0;32mfor\u001b[0m \u001b[0mfn\u001b[0m \u001b[0;32min\u001b[0m \u001b[0mself\u001b[0m\u001b[0;34m.\u001b[0m\u001b[0mparent_listeners\u001b[0m\u001b[0;34m:\u001b[0m\u001b[0;34m\u001b[0m\u001b[0;34m\u001b[0m\u001b[0m\n\u001b[0;32m--> 261\u001b[0;31m             \u001b[0mfn\u001b[0m\u001b[0;34m(\u001b[0m\u001b[0;34m*\u001b[0m\u001b[0margs\u001b[0m\u001b[0;34m,\u001b[0m \u001b[0;34m**\u001b[0m\u001b[0mkw\u001b[0m\u001b[0;34m)\u001b[0m\u001b[0;34m\u001b[0m\u001b[0;34m\u001b[0m\u001b[0m\n\u001b[0m\u001b[1;32m    262\u001b[0m \u001b[0;34m\u001b[0m\u001b[0m\n\u001b[1;32m    263\u001b[0m     \u001b[0;32mdef\u001b[0m \u001b[0m__len__\u001b[0m\u001b[0;34m(\u001b[0m\u001b[0mself\u001b[0m\u001b[0;34m)\u001b[0m\u001b[0;34m:\u001b[0m\u001b[0;34m\u001b[0m\u001b[0;34m\u001b[0m\u001b[0m\n",
      "\u001b[0;32m~/code/iShapeNoise/DeepSearch/DeepSearch/db_toolkit.py\u001b[0m in \u001b[0;36mset_sqlite_pragma\u001b[0;34m(dbapi_connection, connection_record)\u001b[0m\n\u001b[1;32m     85\u001b[0m         \u001b[0mcursor\u001b[0m\u001b[0;34m.\u001b[0m\u001b[0mexecute\u001b[0m\u001b[0;34m(\u001b[0m\u001b[0;34m\"PRAGMA journal_mode=WAL\"\u001b[0m\u001b[0;34m)\u001b[0m\u001b[0;34m\u001b[0m\u001b[0;34m\u001b[0m\u001b[0m\n\u001b[1;32m     86\u001b[0m         \u001b[0mcursor\u001b[0m\u001b[0;34m.\u001b[0m\u001b[0mexecute\u001b[0m\u001b[0;34m(\u001b[0m\u001b[0;34m\"PRAGMA synchronous=normal\"\u001b[0m\u001b[0;34m)\u001b[0m\u001b[0;34m\u001b[0m\u001b[0;34m\u001b[0m\u001b[0m\n\u001b[0;32m---> 87\u001b[0;31m         \u001b[0mcursor\u001b[0m\u001b[0;34m.\u001b[0m\u001b[0mexecute\u001b[0m\u001b[0;34m(\u001b[0m\u001b[0;34m\"PRAGMA temp_store=memory\"\u001b[0m\u001b[0;34m)\u001b[0m\u001b[0;34m\u001b[0m\u001b[0;34m\u001b[0m\u001b[0m\n\u001b[0m\u001b[1;32m     88\u001b[0m         \u001b[0mcursor\u001b[0m\u001b[0;34m.\u001b[0m\u001b[0mexecute\u001b[0m\u001b[0;34m(\u001b[0m\u001b[0;34m\"PRAGMA mmap_size=30000000000\"\u001b[0m\u001b[0;34m)\u001b[0m\u001b[0;34m\u001b[0m\u001b[0;34m\u001b[0m\u001b[0m\n\u001b[1;32m     89\u001b[0m         \u001b[0mcursor\u001b[0m\u001b[0;34m.\u001b[0m\u001b[0mclose\u001b[0m\u001b[0;34m(\u001b[0m\u001b[0;34m)\u001b[0m\u001b[0;34m\u001b[0m\u001b[0;34m\u001b[0m\u001b[0m\n",
      "\u001b[0;31mNameError\u001b[0m: name 'self' is not defined"
     ]
    }
   ],
   "source": [
    "%%time\n",
    "db_tk.csv_to_db(engine, \n",
    "          csv_file=\"/home/bbscar/code/iShapeNoise/src/df_5000.csv\", \n",
    "          tmp_path=\"/home/bbscar/code/iShapeNoise/src/\", \n",
    "          tbl_name=\"tokenized\", \n",
    "          chunk_size=400000,\n",
    "          on_exists='replace')"
   ]
  }
 ],
 "metadata": {
  "kernelspec": {
   "display_name": "Python 3 (ipykernel)",
   "language": "python",
   "name": "python3"
  },
  "language_info": {
   "codemirror_mode": {
    "name": "ipython",
    "version": 3
   },
   "file_extension": ".py",
   "mimetype": "text/x-python",
   "name": "python",
   "nbconvert_exporter": "python",
   "pygments_lexer": "ipython3",
   "version": "3.8.12"
  },
  "toc": {
   "base_numbering": 1,
   "nav_menu": {},
   "number_sections": true,
   "sideBar": true,
   "skip_h1_title": false,
   "title_cell": "Table of Contents",
   "title_sidebar": "Contents",
   "toc_cell": false,
   "toc_position": {},
   "toc_section_display": true,
   "toc_window_display": false
  }
 },
 "nbformat": 4,
 "nbformat_minor": 5
}
