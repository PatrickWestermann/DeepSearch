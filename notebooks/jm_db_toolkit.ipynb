{
 "cells": [
  {
   "cell_type": "markdown",
   "id": "8a8da368",
   "metadata": {},
   "source": [
    "## Database toolkit"
   ]
  },
  {
   "cell_type": "code",
   "execution_count": 44,
   "id": "2b87f2dd",
   "metadata": {},
   "outputs": [
    {
     "name": "stdout",
     "output_type": "stream",
     "text": [
      "The autoreload extension is already loaded. To reload it, use:\n",
      "  %reload_ext autoreload\n"
     ]
    }
   ],
   "source": [
    "%load_ext autoreload\n",
    "%autoreload 2"
   ]
  },
  {
   "cell_type": "markdown",
   "id": "a8736660",
   "metadata": {},
   "source": [
    "### Install DeepSearch module"
   ]
  },
  {
   "cell_type": "code",
   "execution_count": 45,
   "id": "408cbce5",
   "metadata": {},
   "outputs": [
    {
     "name": "stdout",
     "output_type": "stream",
     "text": [
      "Looking in indexes: https://pypi.org/simple, https://pypi.ngc.nvidia.com\n",
      "Requirement already satisfied: DeepSearch in /home/hal9000/Projects/DeepSearch (1.0)\n",
      "Requirement already satisfied: pip>=9 in /home/hal9000/.local/lib/python3.8/site-packages (from DeepSearch) (22.2.2)\n",
      "Requirement already satisfied: setuptools>=26 in /home/hal9000/.pyenv/versions/3.8.12/lib/python3.8/site-packages (from DeepSearch) (56.0.0)\n",
      "Requirement already satisfied: twine in /home/hal9000/.pyenv/versions/3.8.12/lib/python3.8/site-packages (from DeepSearch) (4.0.1)\n",
      "Requirement already satisfied: wheel>=0.29 in /home/hal9000/.pyenv/versions/3.8.12/lib/python3.8/site-packages (from DeepSearch) (0.37.1)\n",
      "Requirement already satisfied: numpy in /home/hal9000/.pyenv/versions/3.8.12/lib/python3.8/site-packages (from DeepSearch) (1.23.2)\n",
      "Requirement already satisfied: pandas in /home/hal9000/.pyenv/versions/3.8.12/lib/python3.8/site-packages (from DeepSearch) (1.4.3)\n",
      "Requirement already satisfied: scikit-learn in /home/hal9000/.pyenv/versions/3.8.12/lib/python3.8/site-packages (from DeepSearch) (1.1.2)\n",
      "Requirement already satisfied: black in /home/hal9000/.pyenv/versions/3.8.12/lib/python3.8/site-packages (from DeepSearch) (22.6.0)\n",
      "Requirement already satisfied: coverage in /home/hal9000/.pyenv/versions/3.8.12/lib/python3.8/site-packages (from DeepSearch) (6.4.4)\n",
      "Requirement already satisfied: flake8 in /home/hal9000/.pyenv/versions/3.8.12/lib/python3.8/site-packages (from DeepSearch) (5.0.4)\n",
      "Requirement already satisfied: pytest in /home/hal9000/.pyenv/versions/3.8.12/lib/python3.8/site-packages (from DeepSearch) (7.1.2)\n",
      "Requirement already satisfied: yapf in /home/hal9000/.pyenv/versions/3.8.12/lib/python3.8/site-packages (from DeepSearch) (0.32.0)\n",
      "Requirement already satisfied: gcsfs in /home/hal9000/.pyenv/versions/3.8.12/lib/python3.8/site-packages (from DeepSearch) (2022.7.1)\n",
      "Requirement already satisfied: google-cloud-storage in /home/hal9000/.pyenv/versions/3.8.12/lib/python3.8/site-packages (from DeepSearch) (2.5.0)\n",
      "Requirement already satisfied: mlflow in /home/hal9000/.pyenv/versions/3.8.12/lib/python3.8/site-packages (from DeepSearch) (1.28.0)\n",
      "Requirement already satisfied: s3fs in /home/hal9000/.pyenv/versions/3.8.12/lib/python3.8/site-packages (from DeepSearch) (2022.7.1)\n",
      "Requirement already satisfied: requests in /home/hal9000/.pyenv/versions/3.8.12/lib/python3.8/site-packages (from DeepSearch) (2.28.1)\n",
      "Requirement already satisfied: six>=1.14 in /home/hal9000/.pyenv/versions/3.8.12/lib/python3.8/site-packages (from DeepSearch) (1.16.0)\n",
      "Requirement already satisfied: joblib in /home/hal9000/.pyenv/versions/3.8.12/lib/python3.8/site-packages (from DeepSearch) (1.1.0)\n",
      "Requirement already satisfied: memoized-property in /home/hal9000/.pyenv/versions/3.8.12/lib/python3.8/site-packages (from DeepSearch) (1.0.3)\n",
      "Requirement already satisfied: termcolor in /home/hal9000/.pyenv/versions/3.8.12/lib/python3.8/site-packages (from DeepSearch) (1.1.0)\n",
      "Requirement already satisfied: xmltodict in /home/hal9000/.pyenv/versions/3.8.12/lib/python3.8/site-packages (from DeepSearch) (0.13.0)\n",
      "Requirement already satisfied: nltk in /home/hal9000/.pyenv/versions/3.8.12/lib/python3.8/site-packages (from DeepSearch) (3.7)\n",
      "Requirement already satisfied: pymongo in /home/hal9000/.pyenv/versions/3.8.12/lib/python3.8/site-packages (from DeepSearch) (4.2.0)\n",
      "Requirement already satisfied: wordcloud in /home/hal9000/.pyenv/versions/3.8.12/lib/python3.8/site-packages (from DeepSearch) (1.8.2.2)\n",
      "Requirement already satisfied: mypy-extensions>=0.4.3 in /home/hal9000/.pyenv/versions/3.8.12/lib/python3.8/site-packages (from black->DeepSearch) (0.4.3)\n",
      "Requirement already satisfied: click>=8.0.0 in /home/hal9000/.pyenv/versions/3.8.12/lib/python3.8/site-packages (from black->DeepSearch) (8.1.3)\n",
      "Requirement already satisfied: platformdirs>=2 in /home/hal9000/.pyenv/versions/3.8.12/lib/python3.8/site-packages (from black->DeepSearch) (2.5.2)\n",
      "Requirement already satisfied: pathspec>=0.9.0 in /home/hal9000/.pyenv/versions/3.8.12/lib/python3.8/site-packages (from black->DeepSearch) (0.9.0)\n",
      "Requirement already satisfied: tomli>=1.1.0 in /home/hal9000/.pyenv/versions/3.8.12/lib/python3.8/site-packages (from black->DeepSearch) (2.0.1)\n",
      "Requirement already satisfied: typing-extensions>=3.10.0.0 in /home/hal9000/.pyenv/versions/3.8.12/lib/python3.8/site-packages (from black->DeepSearch) (4.3.0)\n",
      "Requirement already satisfied: mccabe<0.8.0,>=0.7.0 in /home/hal9000/.pyenv/versions/3.8.12/lib/python3.8/site-packages (from flake8->DeepSearch) (0.7.0)\n",
      "Requirement already satisfied: pycodestyle<2.10.0,>=2.9.0 in /home/hal9000/.pyenv/versions/3.8.12/lib/python3.8/site-packages (from flake8->DeepSearch) (2.9.1)\n",
      "Requirement already satisfied: pyflakes<2.6.0,>=2.5.0 in /home/hal9000/.pyenv/versions/3.8.12/lib/python3.8/site-packages (from flake8->DeepSearch) (2.5.0)\n",
      "Requirement already satisfied: fsspec==2022.7.1 in /home/hal9000/.pyenv/versions/3.8.12/lib/python3.8/site-packages (from gcsfs->DeepSearch) (2022.7.1)\n",
      "Requirement already satisfied: decorator>4.1.2 in /home/hal9000/.pyenv/versions/3.8.12/lib/python3.8/site-packages (from gcsfs->DeepSearch) (5.1.1)\n",
      "Requirement already satisfied: aiohttp in /home/hal9000/.pyenv/versions/3.8.12/lib/python3.8/site-packages (from gcsfs->DeepSearch) (3.8.1)\n",
      "Requirement already satisfied: google-auth-oauthlib in /home/hal9000/.pyenv/versions/3.8.12/lib/python3.8/site-packages (from gcsfs->DeepSearch) (0.5.2)\n",
      "Requirement already satisfied: google-auth>=1.2 in /home/hal9000/.pyenv/versions/3.8.12/lib/python3.8/site-packages (from gcsfs->DeepSearch) (2.11.0)\n",
      "Requirement already satisfied: google-api-core!=2.0.*,!=2.1.*,!=2.2.*,!=2.3.0,<3.0.0dev,>=1.31.5 in /home/hal9000/.pyenv/versions/3.8.12/lib/python3.8/site-packages (from google-cloud-storage->DeepSearch) (2.8.2)\n",
      "Requirement already satisfied: google-resumable-media>=2.3.2 in /home/hal9000/.pyenv/versions/3.8.12/lib/python3.8/site-packages (from google-cloud-storage->DeepSearch) (2.3.3)\n",
      "Requirement already satisfied: google-cloud-core<3.0dev,>=2.3.0 in /home/hal9000/.pyenv/versions/3.8.12/lib/python3.8/site-packages (from google-cloud-storage->DeepSearch) (2.3.2)\n",
      "Requirement already satisfied: charset-normalizer<3,>=2 in /home/hal9000/.pyenv/versions/3.8.12/lib/python3.8/site-packages (from requests->DeepSearch) (2.1.0)\n",
      "Requirement already satisfied: urllib3<1.27,>=1.21.1 in /home/hal9000/.pyenv/versions/3.8.12/lib/python3.8/site-packages (from requests->DeepSearch) (1.26.11)\n",
      "Requirement already satisfied: certifi>=2017.4.17 in /home/hal9000/.pyenv/versions/3.8.12/lib/python3.8/site-packages (from requests->DeepSearch) (2022.6.15)\n",
      "Requirement already satisfied: idna<4,>=2.5 in /home/hal9000/.pyenv/versions/3.8.12/lib/python3.8/site-packages (from requests->DeepSearch) (3.3)\n",
      "Requirement already satisfied: sqlparse<1,>=0.4.0 in /home/hal9000/.pyenv/versions/3.8.12/lib/python3.8/site-packages (from mlflow->DeepSearch) (0.4.2)\n",
      "Requirement already satisfied: packaging<22 in /home/hal9000/.pyenv/versions/3.8.12/lib/python3.8/site-packages (from mlflow->DeepSearch) (21.3)\n",
      "Requirement already satisfied: Flask<3 in /home/hal9000/.pyenv/versions/3.8.12/lib/python3.8/site-packages (from mlflow->DeepSearch) (2.2.2)\n",
      "Requirement already satisfied: prometheus-flask-exporter<1 in /home/hal9000/.pyenv/versions/3.8.12/lib/python3.8/site-packages (from mlflow->DeepSearch) (0.20.3)\n",
      "Requirement already satisfied: gitpython<4,>=2.1.0 in /home/hal9000/.pyenv/versions/3.8.12/lib/python3.8/site-packages (from mlflow->DeepSearch) (3.1.27)\n",
      "Requirement already satisfied: querystring-parser<2 in /home/hal9000/.pyenv/versions/3.8.12/lib/python3.8/site-packages (from mlflow->DeepSearch) (1.2.4)\n",
      "Requirement already satisfied: sqlalchemy<2,>=1.4.0 in /home/hal9000/.pyenv/versions/3.8.12/lib/python3.8/site-packages (from mlflow->DeepSearch) (1.4.40)\n",
      "Requirement already satisfied: scipy<2 in /home/hal9000/.pyenv/versions/3.8.12/lib/python3.8/site-packages (from mlflow->DeepSearch) (1.9.0)\n",
      "Requirement already satisfied: cloudpickle<3 in /home/hal9000/.pyenv/versions/3.8.12/lib/python3.8/site-packages (from mlflow->DeepSearch) (2.1.0)\n",
      "Requirement already satisfied: pyyaml<7,>=5.1 in /home/hal9000/.pyenv/versions/3.8.12/lib/python3.8/site-packages (from mlflow->DeepSearch) (6.0)\n",
      "Requirement already satisfied: protobuf<5,>=3.12.0 in /home/hal9000/.pyenv/versions/3.8.12/lib/python3.8/site-packages (from mlflow->DeepSearch) (3.20.1)\n",
      "Requirement already satisfied: alembic<2 in /home/hal9000/.pyenv/versions/3.8.12/lib/python3.8/site-packages (from mlflow->DeepSearch) (1.8.1)\n",
      "Requirement already satisfied: databricks-cli<1,>=0.8.7 in /home/hal9000/.pyenv/versions/3.8.12/lib/python3.8/site-packages (from mlflow->DeepSearch) (0.17.2)\n",
      "Requirement already satisfied: pytz<2023 in /home/hal9000/.pyenv/versions/3.8.12/lib/python3.8/site-packages (from mlflow->DeepSearch) (2022.2.1)\n",
      "Requirement already satisfied: gunicorn<21 in /home/hal9000/.pyenv/versions/3.8.12/lib/python3.8/site-packages (from mlflow->DeepSearch) (20.1.0)\n",
      "Requirement already satisfied: importlib-metadata!=4.7.0,<5,>=3.7.0 in /home/hal9000/.pyenv/versions/3.8.12/lib/python3.8/site-packages (from mlflow->DeepSearch) (4.12.0)\n",
      "Requirement already satisfied: docker<6,>=4.0.0 in /home/hal9000/.pyenv/versions/3.8.12/lib/python3.8/site-packages (from mlflow->DeepSearch) (5.0.3)\n",
      "Requirement already satisfied: entrypoints<1 in /home/hal9000/.pyenv/versions/3.8.12/lib/python3.8/site-packages (from mlflow->DeepSearch) (0.4)\n"
     ]
    },
    {
     "name": "stdout",
     "output_type": "stream",
     "text": [
      "Requirement already satisfied: python-dateutil>=2.8.1 in /home/hal9000/.pyenv/versions/3.8.12/lib/python3.8/site-packages (from pandas->DeepSearch) (2.8.2)\n",
      "Requirement already satisfied: regex>=2021.8.3 in /home/hal9000/.pyenv/versions/3.8.12/lib/python3.8/site-packages (from nltk->DeepSearch) (2022.8.17)\n",
      "Requirement already satisfied: tqdm in /home/hal9000/.pyenv/versions/3.8.12/lib/python3.8/site-packages (from nltk->DeepSearch) (4.64.0)\n",
      "Requirement already satisfied: attrs>=19.2.0 in /home/hal9000/.pyenv/versions/3.8.12/lib/python3.8/site-packages (from pytest->DeepSearch) (22.1.0)\n",
      "Requirement already satisfied: iniconfig in /home/hal9000/.pyenv/versions/3.8.12/lib/python3.8/site-packages (from pytest->DeepSearch) (1.1.1)\n",
      "Requirement already satisfied: pluggy<2.0,>=0.12 in /home/hal9000/.pyenv/versions/3.8.12/lib/python3.8/site-packages (from pytest->DeepSearch) (1.0.0)\n",
      "Requirement already satisfied: py>=1.8.2 in /home/hal9000/.pyenv/versions/3.8.12/lib/python3.8/site-packages (from pytest->DeepSearch) (1.11.0)\n",
      "Requirement already satisfied: aiobotocore~=2.3.4 in /home/hal9000/.pyenv/versions/3.8.12/lib/python3.8/site-packages (from s3fs->DeepSearch) (2.3.4)\n",
      "Requirement already satisfied: threadpoolctl>=2.0.0 in /home/hal9000/.pyenv/versions/3.8.12/lib/python3.8/site-packages (from scikit-learn->DeepSearch) (3.1.0)\n",
      "Requirement already satisfied: pkginfo>=1.8.1 in /home/hal9000/.pyenv/versions/3.8.12/lib/python3.8/site-packages (from twine->DeepSearch) (1.8.3)\n",
      "Requirement already satisfied: keyring>=15.1 in /home/hal9000/.pyenv/versions/3.8.12/lib/python3.8/site-packages (from twine->DeepSearch) (23.8.2)\n",
      "Requirement already satisfied: readme-renderer>=35.0 in /home/hal9000/.pyenv/versions/3.8.12/lib/python3.8/site-packages (from twine->DeepSearch) (37.0)\n",
      "Requirement already satisfied: rich>=12.0.0 in /home/hal9000/.pyenv/versions/3.8.12/lib/python3.8/site-packages (from twine->DeepSearch) (12.5.1)\n",
      "Requirement already satisfied: requests-toolbelt!=0.9.0,>=0.8.0 in /home/hal9000/.pyenv/versions/3.8.12/lib/python3.8/site-packages (from twine->DeepSearch) (0.9.1)\n",
      "Requirement already satisfied: rfc3986>=1.4.0 in /home/hal9000/.pyenv/versions/3.8.12/lib/python3.8/site-packages (from twine->DeepSearch) (2.0.0)\n",
      "Requirement already satisfied: pillow in /home/hal9000/.pyenv/versions/3.8.12/lib/python3.8/site-packages (from wordcloud->DeepSearch) (9.2.0)\n",
      "Requirement already satisfied: matplotlib in /home/hal9000/.pyenv/versions/3.8.12/lib/python3.8/site-packages (from wordcloud->DeepSearch) (3.5.3)\n",
      "Requirement already satisfied: aioitertools>=0.5.1 in /home/hal9000/.pyenv/versions/3.8.12/lib/python3.8/site-packages (from aiobotocore~=2.3.4->s3fs->DeepSearch) (0.10.0)\n",
      "Requirement already satisfied: wrapt>=1.10.10 in /home/hal9000/.pyenv/versions/3.8.12/lib/python3.8/site-packages (from aiobotocore~=2.3.4->s3fs->DeepSearch) (1.14.1)\n",
      "Requirement already satisfied: botocore<1.24.22,>=1.24.21 in /home/hal9000/.pyenv/versions/3.8.12/lib/python3.8/site-packages (from aiobotocore~=2.3.4->s3fs->DeepSearch) (1.24.21)\n",
      "Requirement already satisfied: multidict<7.0,>=4.5 in /home/hal9000/.pyenv/versions/3.8.12/lib/python3.8/site-packages (from aiohttp->gcsfs->DeepSearch) (6.0.2)\n",
      "Requirement already satisfied: aiosignal>=1.1.2 in /home/hal9000/.pyenv/versions/3.8.12/lib/python3.8/site-packages (from aiohttp->gcsfs->DeepSearch) (1.2.0)\n",
      "Requirement already satisfied: yarl<2.0,>=1.0 in /home/hal9000/.pyenv/versions/3.8.12/lib/python3.8/site-packages (from aiohttp->gcsfs->DeepSearch) (1.8.1)\n",
      "Requirement already satisfied: async-timeout<5.0,>=4.0.0a3 in /home/hal9000/.pyenv/versions/3.8.12/lib/python3.8/site-packages (from aiohttp->gcsfs->DeepSearch) (4.0.2)\n",
      "Requirement already satisfied: frozenlist>=1.1.1 in /home/hal9000/.pyenv/versions/3.8.12/lib/python3.8/site-packages (from aiohttp->gcsfs->DeepSearch) (1.3.1)\n",
      "Requirement already satisfied: Mako in /home/hal9000/.pyenv/versions/3.8.12/lib/python3.8/site-packages (from alembic<2->mlflow->DeepSearch) (1.2.1)\n",
      "Requirement already satisfied: importlib-resources in /home/hal9000/.pyenv/versions/3.8.12/lib/python3.8/site-packages (from alembic<2->mlflow->DeepSearch) (5.9.0)\n",
      "Requirement already satisfied: oauthlib>=3.1.0 in /home/hal9000/.pyenv/versions/3.8.12/lib/python3.8/site-packages (from databricks-cli<1,>=0.8.7->mlflow->DeepSearch) (3.2.0)\n",
      "Requirement already satisfied: pyjwt>=1.7.0 in /home/hal9000/.pyenv/versions/3.8.12/lib/python3.8/site-packages (from databricks-cli<1,>=0.8.7->mlflow->DeepSearch) (2.4.0)\n",
      "Requirement already satisfied: tabulate>=0.7.7 in /home/hal9000/.pyenv/versions/3.8.12/lib/python3.8/site-packages (from databricks-cli<1,>=0.8.7->mlflow->DeepSearch) (0.8.10)\n",
      "Requirement already satisfied: websocket-client>=0.32.0 in /home/hal9000/.pyenv/versions/3.8.12/lib/python3.8/site-packages (from docker<6,>=4.0.0->mlflow->DeepSearch) (1.3.3)\n",
      "Requirement already satisfied: itsdangerous>=2.0 in /home/hal9000/.pyenv/versions/3.8.12/lib/python3.8/site-packages (from Flask<3->mlflow->DeepSearch) (2.1.2)\n",
      "Requirement already satisfied: Werkzeug>=2.2.2 in /home/hal9000/.pyenv/versions/3.8.12/lib/python3.8/site-packages (from Flask<3->mlflow->DeepSearch) (2.2.2)\n",
      "Requirement already satisfied: Jinja2>=3.0 in /home/hal9000/.pyenv/versions/3.8.12/lib/python3.8/site-packages (from Flask<3->mlflow->DeepSearch) (3.1.2)\n",
      "Requirement already satisfied: gitdb<5,>=4.0.1 in /home/hal9000/.pyenv/versions/3.8.12/lib/python3.8/site-packages (from gitpython<4,>=2.1.0->mlflow->DeepSearch) (4.0.9)\n",
      "Requirement already satisfied: googleapis-common-protos<2.0dev,>=1.56.2 in /home/hal9000/.pyenv/versions/3.8.12/lib/python3.8/site-packages (from google-api-core!=2.0.*,!=2.1.*,!=2.2.*,!=2.3.0,<3.0.0dev,>=1.31.5->google-cloud-storage->DeepSearch) (1.56.4)\n",
      "Requirement already satisfied: rsa<5,>=3.1.4 in /home/hal9000/.pyenv/versions/3.8.12/lib/python3.8/site-packages (from google-auth>=1.2->gcsfs->DeepSearch) (4.9)\n",
      "Requirement already satisfied: pyasn1-modules>=0.2.1 in /home/hal9000/.pyenv/versions/3.8.12/lib/python3.8/site-packages (from google-auth>=1.2->gcsfs->DeepSearch) (0.2.8)\n",
      "Requirement already satisfied: cachetools<6.0,>=2.0.0 in /home/hal9000/.pyenv/versions/3.8.12/lib/python3.8/site-packages (from google-auth>=1.2->gcsfs->DeepSearch) (5.2.0)\n",
      "Requirement already satisfied: google-crc32c<2.0dev,>=1.0 in /home/hal9000/.pyenv/versions/3.8.12/lib/python3.8/site-packages (from google-resumable-media>=2.3.2->google-cloud-storage->DeepSearch) (1.3.0)\n",
      "Requirement already satisfied: zipp>=0.5 in /home/hal9000/.pyenv/versions/3.8.12/lib/python3.8/site-packages (from importlib-metadata!=4.7.0,<5,>=3.7.0->mlflow->DeepSearch) (3.8.1)\n",
      "Requirement already satisfied: jeepney>=0.4.2 in /home/hal9000/.pyenv/versions/3.8.12/lib/python3.8/site-packages (from keyring>=15.1->twine->DeepSearch) (0.8.0)\n",
      "Requirement already satisfied: SecretStorage>=3.2 in /home/hal9000/.pyenv/versions/3.8.12/lib/python3.8/site-packages (from keyring>=15.1->twine->DeepSearch) (3.3.3)\n",
      "Requirement already satisfied: pyparsing!=3.0.5,>=2.0.2 in /home/hal9000/.pyenv/versions/3.8.12/lib/python3.8/site-packages (from packaging<22->mlflow->DeepSearch) (3.0.9)\n",
      "Requirement already satisfied: prometheus-client in /home/hal9000/.pyenv/versions/3.8.12/lib/python3.8/site-packages (from prometheus-flask-exporter<1->mlflow->DeepSearch) (0.14.1)\n",
      "Requirement already satisfied: bleach>=2.1.0 in /home/hal9000/.pyenv/versions/3.8.12/lib/python3.8/site-packages (from readme-renderer>=35.0->twine->DeepSearch) (5.0.1)\n",
      "Requirement already satisfied: Pygments>=2.5.1 in /home/hal9000/.pyenv/versions/3.8.12/lib/python3.8/site-packages (from readme-renderer>=35.0->twine->DeepSearch) (2.13.0)\n",
      "Requirement already satisfied: docutils>=0.13.1 in /home/hal9000/.pyenv/versions/3.8.12/lib/python3.8/site-packages (from readme-renderer>=35.0->twine->DeepSearch) (0.19)\n",
      "Requirement already satisfied: commonmark<0.10.0,>=0.9.0 in /home/hal9000/.pyenv/versions/3.8.12/lib/python3.8/site-packages (from rich>=12.0.0->twine->DeepSearch) (0.9.1)\n",
      "Requirement already satisfied: greenlet!=0.4.17 in /home/hal9000/.pyenv/versions/3.8.12/lib/python3.8/site-packages (from sqlalchemy<2,>=1.4.0->mlflow->DeepSearch) (1.1.2)\n"
     ]
    },
    {
     "name": "stdout",
     "output_type": "stream",
     "text": [
      "Requirement already satisfied: requests-oauthlib>=0.7.0 in /home/hal9000/.pyenv/versions/3.8.12/lib/python3.8/site-packages (from google-auth-oauthlib->gcsfs->DeepSearch) (1.3.1)\n",
      "Requirement already satisfied: cycler>=0.10 in /home/hal9000/.pyenv/versions/3.8.12/lib/python3.8/site-packages (from matplotlib->wordcloud->DeepSearch) (0.11.0)\n",
      "Requirement already satisfied: fonttools>=4.22.0 in /home/hal9000/.pyenv/versions/3.8.12/lib/python3.8/site-packages (from matplotlib->wordcloud->DeepSearch) (4.36.0)\n",
      "Requirement already satisfied: kiwisolver>=1.0.1 in /home/hal9000/.pyenv/versions/3.8.12/lib/python3.8/site-packages (from matplotlib->wordcloud->DeepSearch) (1.4.4)\n",
      "Requirement already satisfied: webencodings in /home/hal9000/.pyenv/versions/3.8.12/lib/python3.8/site-packages (from bleach>=2.1.0->readme-renderer>=35.0->twine->DeepSearch) (0.5.1)\n",
      "Requirement already satisfied: jmespath<2.0.0,>=0.7.1 in /home/hal9000/.pyenv/versions/3.8.12/lib/python3.8/site-packages (from botocore<1.24.22,>=1.24.21->aiobotocore~=2.3.4->s3fs->DeepSearch) (0.10.0)\n",
      "Requirement already satisfied: smmap<6,>=3.0.1 in /home/hal9000/.pyenv/versions/3.8.12/lib/python3.8/site-packages (from gitdb<5,>=4.0.1->gitpython<4,>=2.1.0->mlflow->DeepSearch) (5.0.0)\n",
      "Requirement already satisfied: MarkupSafe>=2.0 in /home/hal9000/.pyenv/versions/3.8.12/lib/python3.8/site-packages (from Jinja2>=3.0->Flask<3->mlflow->DeepSearch) (2.1.1)\n",
      "Requirement already satisfied: pyasn1<0.5.0,>=0.4.6 in /home/hal9000/.pyenv/versions/3.8.12/lib/python3.8/site-packages (from pyasn1-modules>=0.2.1->google-auth>=1.2->gcsfs->DeepSearch) (0.4.8)\n",
      "Requirement already satisfied: cryptography>=2.0 in /home/hal9000/.pyenv/versions/3.8.12/lib/python3.8/site-packages (from SecretStorage>=3.2->keyring>=15.1->twine->DeepSearch) (37.0.4)\n",
      "Requirement already satisfied: cffi>=1.12 in /home/hal9000/.pyenv/versions/3.8.12/lib/python3.8/site-packages (from cryptography>=2.0->SecretStorage>=3.2->keyring>=15.1->twine->DeepSearch) (1.15.1)\n",
      "Requirement already satisfied: pycparser in /home/hal9000/.pyenv/versions/3.8.12/lib/python3.8/site-packages (from cffi>=1.12->cryptography>=2.0->SecretStorage>=3.2->keyring>=15.1->twine->DeepSearch) (2.21)\n"
     ]
    }
   ],
   "source": [
    "!pip3 install DeepSearch"
   ]
  },
  {
   "cell_type": "markdown",
   "id": "4a8e01fb",
   "metadata": {},
   "source": [
    "### Import db_toolkit"
   ]
  },
  {
   "cell_type": "code",
   "execution_count": 46,
   "id": "58e15259",
   "metadata": {},
   "outputs": [],
   "source": [
    "from DeepSearch import db_toolkit"
   ]
  },
  {
   "cell_type": "markdown",
   "id": "af6adee2",
   "metadata": {},
   "source": [
    "### Calling ToolKit class"
   ]
  },
  {
   "cell_type": "code",
   "execution_count": 47,
   "id": "0ebdb1c1",
   "metadata": {},
   "outputs": [
    {
     "name": "stdout",
     "output_type": "stream",
     "text": [
      "Toolkit functions: \n",
      "     create_db(database)\n",
      "     create_tbl(engine, tbl_name)\n",
      "     connect_db(database)\n",
      "     disconnect_db(engine)\n",
      "     csv_to_db(engine, csv_file, tbl_name)\n",
      "     tbl_to_df(db, tbl_name)\n",
      "Please use the full path to your database and your engine\n",
      "variable as return of connect_db for engine argument\n"
     ]
    }
   ],
   "source": [
    "db_tk = db_toolkit.ToolKit()"
   ]
  },
  {
   "cell_type": "markdown",
   "id": "bbd68e98",
   "metadata": {},
   "source": [
    "### Create database"
   ]
  },
  {
   "cell_type": "markdown",
   "id": "5e5b9afe",
   "metadata": {},
   "source": [
    "First get path to DeepSearch/data"
   ]
  },
  {
   "cell_type": "code",
   "execution_count": 48,
   "id": "f2db5033",
   "metadata": {},
   "outputs": [
    {
     "data": {
      "text/plain": [
       "'/home/hal9000/Projects/DeepSearch/DeepSearch/data'"
      ]
     },
     "execution_count": 48,
     "metadata": {},
     "output_type": "execute_result"
    }
   ],
   "source": [
    "import os\n",
    "path = os.getcwd()\n",
    "path = os.path.abspath(os.path.join(path, os.pardir)) + \"/DeepSearch/data\"\n",
    "path"
   ]
  },
  {
   "cell_type": "markdown",
   "id": "a41c1374",
   "metadata": {},
   "source": [
    "Create database next"
   ]
  },
  {
   "cell_type": "code",
   "execution_count": 49,
   "id": "a1b1f536",
   "metadata": {},
   "outputs": [
    {
     "data": {
      "text/plain": [
       "'/home/hal9000/Projects/DeepSearch/DeepSearch/data/deepsearch.db'"
      ]
     },
     "execution_count": 49,
     "metadata": {},
     "output_type": "execute_result"
    }
   ],
   "source": [
    "db_name = \"deepsearch.db\"\n",
    "db = path + \"/\" + db_name\n",
    "db"
   ]
  },
  {
   "cell_type": "code",
   "execution_count": 50,
   "id": "53c8bf08",
   "metadata": {},
   "outputs": [
    {
     "name": "stdout",
     "output_type": "stream",
     "text": [
      "2.6.0\n"
     ]
    }
   ],
   "source": [
    "db_tk.create_db(db)"
   ]
  },
  {
   "cell_type": "markdown",
   "id": "fcaa5812",
   "metadata": {},
   "source": [
    "Connect to database"
   ]
  },
  {
   "cell_type": "code",
   "execution_count": 51,
   "id": "5bdbe1c0",
   "metadata": {},
   "outputs": [
    {
     "name": "stdout",
     "output_type": "stream",
     "text": [
      "Unexpected exception formatting exception. Falling back to standard exception\n"
     ]
    },
    {
     "name": "stderr",
     "output_type": "stream",
     "text": [
      "Traceback (most recent call last):\n",
      "  File \"/home/hal9000/.pyenv/versions/3.8.12/lib/python3.8/site-packages/IPython/core/interactiveshell.py\", line 3398, in run_code\n",
      "    exec(code_obj, self.user_global_ns, self.user_ns)\n",
      "  File \"/tmp/ipykernel_48016/2251573681.py\", line 1, in <cell line: 1>\n",
      "    engine = db_tk.connect_db(db)\n",
      "  File \"/home/hal9000/Projects/DeepSearch/DeepSearch/db_toolkit.py\", line 43, in connect_db\n",
      "    self.engine.connect()\n",
      "  File \"/home/hal9000/.pyenv/versions/3.8.12/lib/python3.8/site-packages/sqlalchemy/engine/base.py\", line 3315, in connect\n",
      "    return self._connection_cls(self, close_with_result=close_with_result)\n",
      "  File \"/home/hal9000/.pyenv/versions/3.8.12/lib/python3.8/site-packages/sqlalchemy/engine/base.py\", line 96, in __init__\n",
      "    else engine.raw_connection()\n",
      "  File \"/home/hal9000/.pyenv/versions/3.8.12/lib/python3.8/site-packages/sqlalchemy/engine/base.py\", line 3394, in raw_connection\n",
      "    return self._wrap_pool_connect(self.pool.connect, _connection)\n",
      "  File \"/home/hal9000/.pyenv/versions/3.8.12/lib/python3.8/site-packages/sqlalchemy/engine/base.py\", line 3361, in _wrap_pool_connect\n",
      "    return fn()\n",
      "  File \"/home/hal9000/.pyenv/versions/3.8.12/lib/python3.8/site-packages/sqlalchemy/pool/base.py\", line 310, in connect\n",
      "    return _ConnectionFairy._checkout(self)\n",
      "  File \"/home/hal9000/.pyenv/versions/3.8.12/lib/python3.8/site-packages/sqlalchemy/pool/base.py\", line 868, in _checkout\n",
      "    fairy = _ConnectionRecord.checkout(pool)\n",
      "  File \"/home/hal9000/.pyenv/versions/3.8.12/lib/python3.8/site-packages/sqlalchemy/pool/base.py\", line 476, in checkout\n",
      "    rec = pool._do_get()\n",
      "  File \"/home/hal9000/.pyenv/versions/3.8.12/lib/python3.8/site-packages/sqlalchemy/pool/impl.py\", line 256, in _do_get\n",
      "    return self._create_connection()\n",
      "  File \"/home/hal9000/.pyenv/versions/3.8.12/lib/python3.8/site-packages/sqlalchemy/pool/base.py\", line 256, in _create_connection\n",
      "    return _ConnectionRecord(self)\n",
      "  File \"/home/hal9000/.pyenv/versions/3.8.12/lib/python3.8/site-packages/sqlalchemy/pool/base.py\", line 371, in __init__\n",
      "    self.__connect()\n",
      "  File \"/home/hal9000/.pyenv/versions/3.8.12/lib/python3.8/site-packages/sqlalchemy/pool/base.py\", line 677, in __connect\n",
      "    pool.dispatch.connect.for_modify(\n",
      "  File \"/home/hal9000/.pyenv/versions/3.8.12/lib/python3.8/site-packages/sqlalchemy/event/attr.py\", line 329, in _exec_w_sync_on_first_run\n",
      "    self(*args, **kw)\n",
      "  File \"/home/hal9000/.pyenv/versions/3.8.12/lib/python3.8/site-packages/sqlalchemy/event/attr.py\", line 341, in __call__\n",
      "    fn(*args, **kw)\n",
      "  File \"/home/hal9000/Projects/DeepSearch/DeepSearch/db_toolkit.py\", line 46, in set_sqlite_pragma\n",
      "AttributeError: 'sqlite3.Connection' object has no attribute 'engine'\n",
      "\n",
      "During handling of the above exception, another exception occurred:\n",
      "\n",
      "Traceback (most recent call last):\n",
      "  File \"/home/hal9000/.pyenv/versions/3.8.12/lib/python3.8/site-packages/IPython/core/interactiveshell.py\", line 1993, in showtraceback\n",
      "    stb = self.InteractiveTB.structured_traceback(\n",
      "  File \"/home/hal9000/.pyenv/versions/3.8.12/lib/python3.8/site-packages/IPython/core/ultratb.py\", line 1118, in structured_traceback\n",
      "    return FormattedTB.structured_traceback(\n",
      "  File \"/home/hal9000/.pyenv/versions/3.8.12/lib/python3.8/site-packages/IPython/core/ultratb.py\", line 1012, in structured_traceback\n",
      "    return VerboseTB.structured_traceback(\n",
      "  File \"/home/hal9000/.pyenv/versions/3.8.12/lib/python3.8/site-packages/IPython/core/ultratb.py\", line 865, in structured_traceback\n",
      "    formatted_exception = self.format_exception_as_a_whole(etype, evalue, etb, number_of_lines_of_context,\n",
      "  File \"/home/hal9000/.pyenv/versions/3.8.12/lib/python3.8/site-packages/IPython/core/ultratb.py\", line 818, in format_exception_as_a_whole\n",
      "    frames.append(self.format_record(r))\n",
      "  File \"/home/hal9000/.pyenv/versions/3.8.12/lib/python3.8/site-packages/IPython/core/ultratb.py\", line 736, in format_record\n",
      "    result += ''.join(_format_traceback_lines(frame_info.lines, Colors, self.has_colors, lvals))\n",
      "  File \"/home/hal9000/.pyenv/versions/3.8.12/lib/python3.8/site-packages/stack_data/utils.py\", line 145, in cached_property_wrapper\n",
      "    value = obj.__dict__[self.func.__name__] = self.func(obj)\n",
      "  File \"/home/hal9000/.pyenv/versions/3.8.12/lib/python3.8/site-packages/stack_data/core.py\", line 699, in lines\n",
      "    pieces = self.included_pieces\n",
      "  File \"/home/hal9000/.pyenv/versions/3.8.12/lib/python3.8/site-packages/stack_data/utils.py\", line 145, in cached_property_wrapper\n",
      "    value = obj.__dict__[self.func.__name__] = self.func(obj)\n",
      "  File \"/home/hal9000/.pyenv/versions/3.8.12/lib/python3.8/site-packages/stack_data/core.py\", line 647, in included_pieces\n",
      "    pos = scope_pieces.index(self.executing_piece)\n",
      "  File \"/home/hal9000/.pyenv/versions/3.8.12/lib/python3.8/site-packages/stack_data/utils.py\", line 145, in cached_property_wrapper\n",
      "    value = obj.__dict__[self.func.__name__] = self.func(obj)\n",
      "  File \"/home/hal9000/.pyenv/versions/3.8.12/lib/python3.8/site-packages/stack_data/core.py\", line 626, in executing_piece\n",
      "    return only(\n",
      "  File \"/home/hal9000/.pyenv/versions/3.8.12/lib/python3.8/site-packages/executing/executing.py\", line 164, in only\n",
      "    raise NotOneValueFound('Expected one value, found 0')\n",
      "executing.executing.NotOneValueFound: Expected one value, found 0\n"
     ]
    }
   ],
   "source": [
    "engine = db_tk.connect_db(db)"
   ]
  },
  {
   "cell_type": "code",
   "execution_count": null,
   "id": "7b5babb5",
   "metadata": {},
   "outputs": [],
   "source": []
  }
 ],
 "metadata": {
  "kernelspec": {
   "display_name": "Python 3 (ipykernel)",
   "language": "python",
   "name": "python3"
  },
  "language_info": {
   "codemirror_mode": {
    "name": "ipython",
    "version": 3
   },
   "file_extension": ".py",
   "mimetype": "text/x-python",
   "name": "python",
   "nbconvert_exporter": "python",
   "pygments_lexer": "ipython3",
   "version": "3.8.12"
  },
  "toc": {
   "base_numbering": 1,
   "nav_menu": {},
   "number_sections": true,
   "sideBar": true,
   "skip_h1_title": false,
   "title_cell": "Table of Contents",
   "title_sidebar": "Contents",
   "toc_cell": false,
   "toc_position": {},
   "toc_section_display": true,
   "toc_window_display": false
  }
 },
 "nbformat": 4,
 "nbformat_minor": 5
}
