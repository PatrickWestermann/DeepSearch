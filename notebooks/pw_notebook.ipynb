{
 "cells": [
  {
   "cell_type": "code",
   "execution_count": null,
   "metadata": {},
   "outputs": [],
   "source": []
  }
 ],
 "metadata": {
  "kernelspec": {
   "display_name": "Python 3.8.13 64-bit ('shims')",
   "language": "python",
   "name": "python3"
  },
  "language_info": {
   "name": "python",
   "version": "3.8.13"
  },
  "orig_nbformat": 4,
  "vscode": {
   "interpreter": {
    "hash": "ccc3abc49aac8db02ab2e12e6d0d5be1cf749de4e0ba37777a3b5ff75f057c63"
   }
  }
 },
 "nbformat": 4,
 "nbformat_minor": 2
}
